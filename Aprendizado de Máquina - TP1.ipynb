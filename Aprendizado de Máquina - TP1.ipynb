{
 "cells": [
  {
   "cell_type": "markdown",
   "metadata": {},
   "source": [
    "# Aprendizado de Máquina - TP1\n",
    "# Classificação de Exoplanetas\n",
    "\n",
    "O trabalho tem como objetivo a prática de conceitos aprendidos na disciplina, adquirindo experiência no uso de métodos de classificação, na avaliação de modelos, e na interpretação e apresentação de resultados de experimentos. Para isso, utilizaremos e compararemos diferentes métodos para solucionar um problema de classificação binária.  \n",
    "\n",
    "O problema abordado é o da classificação de exoplanetas identificados pela sonda espacial *Kepler* entre **confirmados** e **falsos positivos**. Os possíveis exoplanetas são chamados **Kepler Object of Interest (KOI)**, e cada observação do conjunto de dados corresponde a um KOI e suas características estimadas.\n",
    "\n",
    "Serão explorados os seguintes métodos de classificação:\n",
    "- [ ] **Naive Bayes**\n",
    "    - [ ] Apenas um experimento, para servir de baseline.\n",
    "- [ ] **Decision Tree**\n",
    "    - [ ] Variação de altura máxima da árvore, incluindo ilimitada\n",
    "    - [ ] Visualização gráfica dos resultados\n",
    "- [ ] **SVM**\n",
    "    - [ ] Avaliação dos Kernels\n",
    "        - [ ] Linear\n",
    "        - [ ] Sigmoid\n",
    "        - [ ] Polinomial\n",
    "        - [ ] RBF\n",
    "- [ ] **k-NN**\n",
    "    - [ ] Variação do número de vizinhos *k*\n",
    "    - [ ] Visualização gráfica dos resultados\n",
    "- [ ] **Random Forest**\n",
    "    - [ ] Variação do número de árvores\n",
    "    - [ ] Visualização gráfica dos resultados\n",
    "- [ ] **Gradient Tree Boosting**\n",
    "    - [ ] Variação do número de iterações\n",
    "    - [ ] Visualização gráfica dos resultados\n",
    "\n",
    "Os métodos estão disponíveis no módulo `scikit-learn`. Iremos utilizar também os módulos `numpy` e `matplotlib.pyplot` para operações matemáticas e geração de gráficos, respectivamente."
   ]
  },
  {
   "cell_type": "code",
   "execution_count": 2,
   "metadata": {},
   "outputs": [],
   "source": [
    "import sklearn\n",
    "import numpy as np\n",
    "import matplotlib.pyplot as plt"
   ]
  }
 ],
 "metadata": {
  "kernelspec": {
   "display_name": "Python 3",
   "language": "python",
   "name": "python3"
  },
  "language_info": {
   "codemirror_mode": {
    "name": "ipython",
    "version": 3
   },
   "file_extension": ".py",
   "mimetype": "text/x-python",
   "name": "python",
   "nbconvert_exporter": "python",
   "pygments_lexer": "ipython3",
   "version": "3.6.5"
  }
 },
 "nbformat": 4,
 "nbformat_minor": 2
}
