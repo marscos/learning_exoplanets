{
 "cells": [
  {
   "cell_type": "markdown",
   "metadata": {},
   "source": [
    "# Aprendizado de Máquina - TP1\n",
    "# Classificação de Exoplanetas\n",
    "\n",
    "O trabalho tem como objetivo a prática de conceitos aprendidos na disciplina, adquirindo experiência no uso de métodos de classificação, na avaliação de modelos, e na interpretação e apresentação de resultados de experimentos. Para isso, utilizaremos e compararemos diferentes métodos para solucionar um problema de classificação binária.  \n",
    "\n",
    "O problema abordado é o da classificação de exoplanetas identificados pela sonda espacial *Kepler* entre **confirmados** e **falsos positivos**. Os possíveis exoplanetas são chamados **Kepler Object of Interest (KOI)**, e cada observação do conjunto de dados corresponde a um KOI e suas características estimadas.\n",
    "\n",
    "Serão explorados os seguintes métodos de classificação:\n",
    "- [x] **Naive Bayes**\n",
    "    - [x] Apenas um experimento, para servir de baseline.\n",
    "- [x] **Decision Tree**\n",
    "    - [x] Variação de altura máxima da árvore, incluindo ilimitada\n",
    "    - [x] Visualização gráfica dos resultados\n",
    "- [x] **SVM**\n",
    "    - [x] Avaliação dos Kernels\n",
    "        - [x] Linear\n",
    "        - [x] Sigmoid\n",
    "        - [x] Polinomial\n",
    "        - [x] RBF\n",
    "- [x] **k-NN**\n",
    "    - [x] Variação do número de vizinhos *k*\n",
    "    - [x] Visualização gráfica dos resultados\n",
    "- [x] **Random Forest**\n",
    "    - [x] Variação do número de árvores\n",
    "    - [x] Visualização gráfica dos resultados\n",
    "- [x] **Gradient Tree Boosting**\n",
    "    - [x] Variação do número de iterações\n",
    "    - [x] Visualização gráfica dos resultados\n",
    "\n",
    "Os métodos estão disponíveis no módulo `scikit-learn`. Iremos utilizar também os módulos `numpy`, `matplotlib.pyplot` e `pandas` para operações matemáticas, geração de gráficos, e manipulação do conjunto de dados, respectivamente."
   ]
  },
  {
   "cell_type": "code",
   "execution_count": 119,
   "metadata": {},
   "outputs": [],
   "source": [
    "import numpy as np\n",
    "import matplotlib.pyplot as plt\n",
    "import pandas as pd"
   ]
  },
  {
   "cell_type": "markdown",
   "metadata": {},
   "source": [
    "# Verificação e Tratamento de Dados"
   ]
  },
  {
   "cell_type": "code",
   "execution_count": 120,
   "metadata": {},
   "outputs": [
    {
     "data": {
      "text/plain": [
       "koi_disposition     0\n",
       "koi_period          0\n",
       "koi_impact          0\n",
       "koi_duration        0\n",
       "koi_depth           0\n",
       "koi_ror             0\n",
       "koi_srho            0\n",
       "koi_prad            0\n",
       "koi_sma             0\n",
       "koi_incl            0\n",
       "koi_teq             0\n",
       "koi_insol           0\n",
       "koi_dor             0\n",
       "koi_max_sngle_ev    0\n",
       "koi_max_mult_ev     0\n",
       "koi_model_snr       0\n",
       "koi_steff           0\n",
       "koi_slogg           0\n",
       "koi_smet            0\n",
       "koi_srad            0\n",
       "koi_smass           0\n",
       "koi_kepmag          0\n",
       "koi_gmag            0\n",
       "koi_rmag            0\n",
       "koi_imag            0\n",
       "koi_zmag            0\n",
       "koi_jmag            0\n",
       "koi_hmag            0\n",
       "koi_kmag            0\n",
       "koi_fwm_stat_sig    0\n",
       "koi_fwm_sra         0\n",
       "koi_fwm_sdec        0\n",
       "koi_fwm_srao        0\n",
       "koi_fwm_sdeco       0\n",
       "koi_fwm_prao        0\n",
       "koi_fwm_pdeco       0\n",
       "koi_dicco_mra       0\n",
       "koi_dicco_mdec      0\n",
       "koi_dicco_msky      0\n",
       "koi_dikco_mra       0\n",
       "koi_dikco_mdec      0\n",
       "koi_dikco_msky      0\n",
       "dtype: int64"
      ]
     },
     "execution_count": 120,
     "metadata": {},
     "output_type": "execute_result"
    }
   ],
   "source": [
    "koi = pd.read_csv(\"koi_data.csv\")\n",
    "koi = koi.set_index(\"kepoi_name\")\n",
    "koi.isnull().sum()"
   ]
  },
  {
   "cell_type": "markdown",
   "metadata": {},
   "source": [
    "Não há dados faltantes no conjunto de dados."
   ]
  },
  {
   "cell_type": "code",
   "execution_count": 121,
   "metadata": {},
   "outputs": [
    {
     "data": {
      "text/plain": [
       "count    5202.000000\n",
       "mean        0.404460\n",
       "std         0.490834\n",
       "min         0.000000\n",
       "25%         0.000000\n",
       "50%         0.000000\n",
       "75%         1.000000\n",
       "max         1.000000\n",
       "Name: koi_disposition, dtype: float64"
      ]
     },
     "execution_count": 121,
     "metadata": {},
     "output_type": "execute_result"
    }
   ],
   "source": [
    "target = koi[\"koi_disposition\"] # Classificação de interesse\n",
    "koi = koi.drop(\"koi_disposition\", axis=1) # Essa separação facilita o uso dos métodos em sklearn\n",
    "target = target.replace({\"CONFIRMED\": 1, \"FALSE POSITIVE\": 0}) # Essa transformação facilita o uso do módulo sklearn.metrics\n",
    "target.index = koi.index\n",
    "target.describe()"
   ]
  },
  {
   "cell_type": "markdown",
   "metadata": {},
   "source": [
    "Temos duas classes de interesse, e pela proporção observada de falsos positivos (3098/5202), não há sub-representação relevante."
   ]
  },
  {
   "cell_type": "code",
   "execution_count": 122,
   "metadata": {
    "scrolled": true
   },
   "outputs": [
    {
     "data": {
      "text/html": [
       "<div>\n",
       "<style scoped>\n",
       "    .dataframe tbody tr th:only-of-type {\n",
       "        vertical-align: middle;\n",
       "    }\n",
       "\n",
       "    .dataframe tbody tr th {\n",
       "        vertical-align: top;\n",
       "    }\n",
       "\n",
       "    .dataframe thead th {\n",
       "        text-align: right;\n",
       "    }\n",
       "</style>\n",
       "<table border=\"1\" class=\"dataframe\">\n",
       "  <thead>\n",
       "    <tr style=\"text-align: right;\">\n",
       "      <th></th>\n",
       "      <th>koi_period</th>\n",
       "      <th>koi_impact</th>\n",
       "      <th>koi_duration</th>\n",
       "      <th>koi_depth</th>\n",
       "      <th>koi_ror</th>\n",
       "      <th>koi_srho</th>\n",
       "      <th>koi_prad</th>\n",
       "      <th>koi_sma</th>\n",
       "      <th>koi_incl</th>\n",
       "      <th>koi_teq</th>\n",
       "      <th>...</th>\n",
       "      <th>koi_fwm_srao</th>\n",
       "      <th>koi_fwm_sdeco</th>\n",
       "      <th>koi_fwm_prao</th>\n",
       "      <th>koi_fwm_pdeco</th>\n",
       "      <th>koi_dicco_mra</th>\n",
       "      <th>koi_dicco_mdec</th>\n",
       "      <th>koi_dicco_msky</th>\n",
       "      <th>koi_dikco_mra</th>\n",
       "      <th>koi_dikco_mdec</th>\n",
       "      <th>koi_dikco_msky</th>\n",
       "    </tr>\n",
       "  </thead>\n",
       "  <tbody>\n",
       "    <tr>\n",
       "      <th>count</th>\n",
       "      <td>5202.000000</td>\n",
       "      <td>5202.000000</td>\n",
       "      <td>5202.000000</td>\n",
       "      <td>5202.000000</td>\n",
       "      <td>5202.000000</td>\n",
       "      <td>5202.000000</td>\n",
       "      <td>5202.000000</td>\n",
       "      <td>5202.000000</td>\n",
       "      <td>5202.000000</td>\n",
       "      <td>5202.000000</td>\n",
       "      <td>...</td>\n",
       "      <td>5202.000000</td>\n",
       "      <td>5202.000000</td>\n",
       "      <td>5202.000000</td>\n",
       "      <td>5202.000000</td>\n",
       "      <td>5202.000000</td>\n",
       "      <td>5202.000000</td>\n",
       "      <td>5202.000000</td>\n",
       "      <td>5202.000000</td>\n",
       "      <td>5202.000000</td>\n",
       "      <td>5202.000000</td>\n",
       "    </tr>\n",
       "    <tr>\n",
       "      <th>mean</th>\n",
       "      <td>37.032237</td>\n",
       "      <td>0.717106</td>\n",
       "      <td>5.607025</td>\n",
       "      <td>21340.318993</td>\n",
       "      <td>0.235205</td>\n",
       "      <td>3.415370</td>\n",
       "      <td>112.230798</td>\n",
       "      <td>0.158146</td>\n",
       "      <td>81.181413</td>\n",
       "      <td>1143.721069</td>\n",
       "      <td>...</td>\n",
       "      <td>-0.355681</td>\n",
       "      <td>-0.805629</td>\n",
       "      <td>-0.000263</td>\n",
       "      <td>0.000439</td>\n",
       "      <td>-0.049743</td>\n",
       "      <td>-0.087413</td>\n",
       "      <td>1.930251</td>\n",
       "      <td>-0.038402</td>\n",
       "      <td>-0.098738</td>\n",
       "      <td>1.920226</td>\n",
       "    </tr>\n",
       "    <tr>\n",
       "      <th>std</th>\n",
       "      <td>88.417985</td>\n",
       "      <td>2.628207</td>\n",
       "      <td>6.962634</td>\n",
       "      <td>66989.808550</td>\n",
       "      <td>2.586213</td>\n",
       "      <td>25.131368</td>\n",
       "      <td>3699.799318</td>\n",
       "      <td>0.241792</td>\n",
       "      <td>16.308839</td>\n",
       "      <td>775.788868</td>\n",
       "      <td>...</td>\n",
       "      <td>10.978677</td>\n",
       "      <td>14.741473</td>\n",
       "      <td>0.065707</td>\n",
       "      <td>0.077519</td>\n",
       "      <td>2.465670</td>\n",
       "      <td>2.746534</td>\n",
       "      <td>3.147553</td>\n",
       "      <td>2.465094</td>\n",
       "      <td>2.734732</td>\n",
       "      <td>3.142764</td>\n",
       "    </tr>\n",
       "    <tr>\n",
       "      <th>min</th>\n",
       "      <td>0.306940</td>\n",
       "      <td>0.000000</td>\n",
       "      <td>0.104600</td>\n",
       "      <td>0.800000</td>\n",
       "      <td>0.001290</td>\n",
       "      <td>0.000040</td>\n",
       "      <td>0.080000</td>\n",
       "      <td>0.007200</td>\n",
       "      <td>2.290000</td>\n",
       "      <td>92.000000</td>\n",
       "      <td>...</td>\n",
       "      <td>-275.600000</td>\n",
       "      <td>-397.620000</td>\n",
       "      <td>-4.000000</td>\n",
       "      <td>-0.800000</td>\n",
       "      <td>-21.500000</td>\n",
       "      <td>-75.900000</td>\n",
       "      <td>0.000000</td>\n",
       "      <td>-23.600000</td>\n",
       "      <td>-76.600000</td>\n",
       "      <td>0.000000</td>\n",
       "    </tr>\n",
       "    <tr>\n",
       "      <th>25%</th>\n",
       "      <td>2.213962</td>\n",
       "      <td>0.226000</td>\n",
       "      <td>2.500250</td>\n",
       "      <td>176.800000</td>\n",
       "      <td>0.013058</td>\n",
       "      <td>0.176092</td>\n",
       "      <td>1.460000</td>\n",
       "      <td>0.033000</td>\n",
       "      <td>81.930000</td>\n",
       "      <td>615.250000</td>\n",
       "      <td>...</td>\n",
       "      <td>-0.500000</td>\n",
       "      <td>-0.570000</td>\n",
       "      <td>-0.000240</td>\n",
       "      <td>-0.000240</td>\n",
       "      <td>-0.270000</td>\n",
       "      <td>-0.291500</td>\n",
       "      <td>0.128250</td>\n",
       "      <td>-0.265250</td>\n",
       "      <td>-0.320000</td>\n",
       "      <td>0.180000</td>\n",
       "    </tr>\n",
       "    <tr>\n",
       "      <th>50%</th>\n",
       "      <td>7.386755</td>\n",
       "      <td>0.610000</td>\n",
       "      <td>3.805500</td>\n",
       "      <td>495.950000</td>\n",
       "      <td>0.024185</td>\n",
       "      <td>0.748045</td>\n",
       "      <td>2.600000</td>\n",
       "      <td>0.073650</td>\n",
       "      <td>87.890000</td>\n",
       "      <td>948.000000</td>\n",
       "      <td>...</td>\n",
       "      <td>0.000000</td>\n",
       "      <td>-0.030000</td>\n",
       "      <td>0.000000</td>\n",
       "      <td>0.000000</td>\n",
       "      <td>0.000000</td>\n",
       "      <td>0.000000</td>\n",
       "      <td>0.460000</td>\n",
       "      <td>-0.007000</td>\n",
       "      <td>-0.018000</td>\n",
       "      <td>0.453000</td>\n",
       "    </tr>\n",
       "    <tr>\n",
       "      <th>75%</th>\n",
       "      <td>23.448117</td>\n",
       "      <td>0.923750</td>\n",
       "      <td>6.000750</td>\n",
       "      <td>2120.525000</td>\n",
       "      <td>0.171260</td>\n",
       "      <td>2.267063</td>\n",
       "      <td>21.645000</td>\n",
       "      <td>0.158200</td>\n",
       "      <td>89.520000</td>\n",
       "      <td>1482.000000</td>\n",
       "      <td>...</td>\n",
       "      <td>0.500000</td>\n",
       "      <td>0.450000</td>\n",
       "      <td>0.000260</td>\n",
       "      <td>0.000280</td>\n",
       "      <td>0.230000</td>\n",
       "      <td>0.230000</td>\n",
       "      <td>2.570000</td>\n",
       "      <td>0.226250</td>\n",
       "      <td>0.250000</td>\n",
       "      <td>2.420000</td>\n",
       "    </tr>\n",
       "    <tr>\n",
       "      <th>max</th>\n",
       "      <td>1071.232620</td>\n",
       "      <td>100.806000</td>\n",
       "      <td>138.540000</td>\n",
       "      <td>864260.000000</td>\n",
       "      <td>99.870650</td>\n",
       "      <td>918.752390</td>\n",
       "      <td>200346.000000</td>\n",
       "      <td>2.034500</td>\n",
       "      <td>90.000000</td>\n",
       "      <td>9791.000000</td>\n",
       "      <td>...</td>\n",
       "      <td>97.780000</td>\n",
       "      <td>98.780000</td>\n",
       "      <td>1.190000</td>\n",
       "      <td>5.000000</td>\n",
       "      <td>45.680000</td>\n",
       "      <td>27.500000</td>\n",
       "      <td>88.600000</td>\n",
       "      <td>46.570000</td>\n",
       "      <td>31.200000</td>\n",
       "      <td>89.600000</td>\n",
       "    </tr>\n",
       "  </tbody>\n",
       "</table>\n",
       "<p>8 rows × 41 columns</p>\n",
       "</div>"
      ],
      "text/plain": [
       "        koi_period   koi_impact  koi_duration      koi_depth      koi_ror  \\\n",
       "count  5202.000000  5202.000000   5202.000000    5202.000000  5202.000000   \n",
       "mean     37.032237     0.717106      5.607025   21340.318993     0.235205   \n",
       "std      88.417985     2.628207      6.962634   66989.808550     2.586213   \n",
       "min       0.306940     0.000000      0.104600       0.800000     0.001290   \n",
       "25%       2.213962     0.226000      2.500250     176.800000     0.013058   \n",
       "50%       7.386755     0.610000      3.805500     495.950000     0.024185   \n",
       "75%      23.448117     0.923750      6.000750    2120.525000     0.171260   \n",
       "max    1071.232620   100.806000    138.540000  864260.000000    99.870650   \n",
       "\n",
       "          koi_srho       koi_prad      koi_sma     koi_incl      koi_teq  \\\n",
       "count  5202.000000    5202.000000  5202.000000  5202.000000  5202.000000   \n",
       "mean      3.415370     112.230798     0.158146    81.181413  1143.721069   \n",
       "std      25.131368    3699.799318     0.241792    16.308839   775.788868   \n",
       "min       0.000040       0.080000     0.007200     2.290000    92.000000   \n",
       "25%       0.176092       1.460000     0.033000    81.930000   615.250000   \n",
       "50%       0.748045       2.600000     0.073650    87.890000   948.000000   \n",
       "75%       2.267063      21.645000     0.158200    89.520000  1482.000000   \n",
       "max     918.752390  200346.000000     2.034500    90.000000  9791.000000   \n",
       "\n",
       "            ...        koi_fwm_srao  koi_fwm_sdeco  koi_fwm_prao  \\\n",
       "count       ...         5202.000000    5202.000000   5202.000000   \n",
       "mean        ...           -0.355681      -0.805629     -0.000263   \n",
       "std         ...           10.978677      14.741473      0.065707   \n",
       "min         ...         -275.600000    -397.620000     -4.000000   \n",
       "25%         ...           -0.500000      -0.570000     -0.000240   \n",
       "50%         ...            0.000000      -0.030000      0.000000   \n",
       "75%         ...            0.500000       0.450000      0.000260   \n",
       "max         ...           97.780000      98.780000      1.190000   \n",
       "\n",
       "       koi_fwm_pdeco  koi_dicco_mra  koi_dicco_mdec  koi_dicco_msky  \\\n",
       "count    5202.000000    5202.000000     5202.000000     5202.000000   \n",
       "mean        0.000439      -0.049743       -0.087413        1.930251   \n",
       "std         0.077519       2.465670        2.746534        3.147553   \n",
       "min        -0.800000     -21.500000      -75.900000        0.000000   \n",
       "25%        -0.000240      -0.270000       -0.291500        0.128250   \n",
       "50%         0.000000       0.000000        0.000000        0.460000   \n",
       "75%         0.000280       0.230000        0.230000        2.570000   \n",
       "max         5.000000      45.680000       27.500000       88.600000   \n",
       "\n",
       "       koi_dikco_mra  koi_dikco_mdec  koi_dikco_msky  \n",
       "count    5202.000000     5202.000000     5202.000000  \n",
       "mean       -0.038402       -0.098738        1.920226  \n",
       "std         2.465094        2.734732        3.142764  \n",
       "min       -23.600000      -76.600000        0.000000  \n",
       "25%        -0.265250       -0.320000        0.180000  \n",
       "50%        -0.007000       -0.018000        0.453000  \n",
       "75%         0.226250        0.250000        2.420000  \n",
       "max        46.570000       31.200000       89.600000  \n",
       "\n",
       "[8 rows x 41 columns]"
      ]
     },
     "execution_count": 122,
     "metadata": {},
     "output_type": "execute_result"
    }
   ],
   "source": [
    "koi.describe()"
   ]
  },
  {
   "cell_type": "markdown",
   "metadata": {},
   "source": [
    "**Temos muita variação entre as grandezas dos atributos.** (e.g: `koi_depth` e `koi_fwm_pdeco`)  \n",
    "**Deve ser interessante normalizar os dados para melhor funcionamento de alguns modelos.**"
   ]
  },
  {
   "cell_type": "code",
   "execution_count": 123,
   "metadata": {},
   "outputs": [
    {
     "data": {
      "text/html": [
       "<div>\n",
       "<style scoped>\n",
       "    .dataframe tbody tr th:only-of-type {\n",
       "        vertical-align: middle;\n",
       "    }\n",
       "\n",
       "    .dataframe tbody tr th {\n",
       "        vertical-align: top;\n",
       "    }\n",
       "\n",
       "    .dataframe thead th {\n",
       "        text-align: right;\n",
       "    }\n",
       "</style>\n",
       "<table border=\"1\" class=\"dataframe\">\n",
       "  <thead>\n",
       "    <tr style=\"text-align: right;\">\n",
       "      <th></th>\n",
       "      <th>koi_period</th>\n",
       "      <th>koi_impact</th>\n",
       "      <th>koi_duration</th>\n",
       "      <th>koi_depth</th>\n",
       "      <th>koi_ror</th>\n",
       "      <th>koi_srho</th>\n",
       "      <th>koi_prad</th>\n",
       "      <th>koi_sma</th>\n",
       "      <th>koi_incl</th>\n",
       "      <th>koi_teq</th>\n",
       "      <th>...</th>\n",
       "      <th>koi_fwm_srao</th>\n",
       "      <th>koi_fwm_sdeco</th>\n",
       "      <th>koi_fwm_prao</th>\n",
       "      <th>koi_fwm_pdeco</th>\n",
       "      <th>koi_dicco_mra</th>\n",
       "      <th>koi_dicco_mdec</th>\n",
       "      <th>koi_dicco_msky</th>\n",
       "      <th>koi_dikco_mra</th>\n",
       "      <th>koi_dikco_mdec</th>\n",
       "      <th>koi_dikco_msky</th>\n",
       "    </tr>\n",
       "    <tr>\n",
       "      <th>kepoi_name</th>\n",
       "      <th></th>\n",
       "      <th></th>\n",
       "      <th></th>\n",
       "      <th></th>\n",
       "      <th></th>\n",
       "      <th></th>\n",
       "      <th></th>\n",
       "      <th></th>\n",
       "      <th></th>\n",
       "      <th></th>\n",
       "      <th></th>\n",
       "      <th></th>\n",
       "      <th></th>\n",
       "      <th></th>\n",
       "      <th></th>\n",
       "      <th></th>\n",
       "      <th></th>\n",
       "      <th></th>\n",
       "      <th></th>\n",
       "      <th></th>\n",
       "      <th></th>\n",
       "    </tr>\n",
       "  </thead>\n",
       "  <tbody>\n",
       "    <tr>\n",
       "      <th>K00752.01</th>\n",
       "      <td>0.008573</td>\n",
       "      <td>0.001448</td>\n",
       "      <td>0.020608</td>\n",
       "      <td>0.000712</td>\n",
       "      <td>0.000211</td>\n",
       "      <td>0.003492</td>\n",
       "      <td>0.000011</td>\n",
       "      <td>0.038524</td>\n",
       "      <td>0.996124</td>\n",
       "      <td>0.072275</td>\n",
       "      <td>...</td>\n",
       "      <td>0.739274</td>\n",
       "      <td>0.802901</td>\n",
       "      <td>0.770674</td>\n",
       "      <td>0.137836</td>\n",
       "      <td>0.319887</td>\n",
       "      <td>0.735977</td>\n",
       "      <td>0.002257</td>\n",
       "      <td>0.337466</td>\n",
       "      <td>0.713451</td>\n",
       "      <td>0.003571</td>\n",
       "    </tr>\n",
       "    <tr>\n",
       "      <th>K00752.02</th>\n",
       "      <td>0.050528</td>\n",
       "      <td>0.005813</td>\n",
       "      <td>0.031801</td>\n",
       "      <td>0.001011</td>\n",
       "      <td>0.000267</td>\n",
       "      <td>0.003291</td>\n",
       "      <td>0.000014</td>\n",
       "      <td>0.131308</td>\n",
       "      <td>0.995097</td>\n",
       "      <td>0.036189</td>\n",
       "      <td>...</td>\n",
       "      <td>0.736435</td>\n",
       "      <td>0.803485</td>\n",
       "      <td>0.770840</td>\n",
       "      <td>0.137750</td>\n",
       "      <td>0.325841</td>\n",
       "      <td>0.734043</td>\n",
       "      <td>0.004402</td>\n",
       "      <td>0.343309</td>\n",
       "      <td>0.711688</td>\n",
       "      <td>0.005580</td>\n",
       "    </tr>\n",
       "    <tr>\n",
       "      <th>K00754.01</th>\n",
       "      <td>0.001335</td>\n",
       "      <td>0.012658</td>\n",
       "      <td>0.016627</td>\n",
       "      <td>0.009347</td>\n",
       "      <td>0.003866</td>\n",
       "      <td>0.000240</td>\n",
       "      <td>0.000167</td>\n",
       "      <td>0.009619</td>\n",
       "      <td>0.738798</td>\n",
       "      <td>0.134344</td>\n",
       "      <td>...</td>\n",
       "      <td>0.737825</td>\n",
       "      <td>0.801011</td>\n",
       "      <td>0.771295</td>\n",
       "      <td>0.137686</td>\n",
       "      <td>0.316329</td>\n",
       "      <td>0.735464</td>\n",
       "      <td>0.003262</td>\n",
       "      <td>0.332664</td>\n",
       "      <td>0.711494</td>\n",
       "      <td>0.003080</td>\n",
       "    </tr>\n",
       "    <tr>\n",
       "      <th>K00755.01</th>\n",
       "      <td>0.002072</td>\n",
       "      <td>0.006954</td>\n",
       "      <td>0.011196</td>\n",
       "      <td>0.000697</td>\n",
       "      <td>0.000228</td>\n",
       "      <td>0.002162</td>\n",
       "      <td>0.000013</td>\n",
       "      <td>0.014897</td>\n",
       "      <td>0.947668</td>\n",
       "      <td>0.135478</td>\n",
       "      <td>...</td>\n",
       "      <td>0.738095</td>\n",
       "      <td>0.801471</td>\n",
       "      <td>0.770728</td>\n",
       "      <td>0.137919</td>\n",
       "      <td>0.320482</td>\n",
       "      <td>0.733172</td>\n",
       "      <td>0.001129</td>\n",
       "      <td>0.337324</td>\n",
       "      <td>0.710761</td>\n",
       "      <td>0.000781</td>\n",
       "    </tr>\n",
       "    <tr>\n",
       "      <th>K00114.01</th>\n",
       "      <td>0.006588</td>\n",
       "      <td>0.011597</td>\n",
       "      <td>0.035521</td>\n",
       "      <td>0.000269</td>\n",
       "      <td>0.001823</td>\n",
       "      <td>0.000005</td>\n",
       "      <td>0.000195</td>\n",
       "      <td>0.036896</td>\n",
       "      <td>0.668453</td>\n",
       "      <td>0.128879</td>\n",
       "      <td>...</td>\n",
       "      <td>0.702100</td>\n",
       "      <td>0.849537</td>\n",
       "      <td>0.771297</td>\n",
       "      <td>0.136974</td>\n",
       "      <td>0.252962</td>\n",
       "      <td>0.808607</td>\n",
       "      <td>0.100790</td>\n",
       "      <td>0.271669</td>\n",
       "      <td>0.782124</td>\n",
       "      <td>0.099866</td>\n",
       "    </tr>\n",
       "  </tbody>\n",
       "</table>\n",
       "<p>5 rows × 41 columns</p>\n",
       "</div>"
      ],
      "text/plain": [
       "            koi_period  koi_impact  koi_duration  koi_depth   koi_ror  \\\n",
       "kepoi_name                                                              \n",
       "K00752.01     0.008573    0.001448      0.020608   0.000712  0.000211   \n",
       "K00752.02     0.050528    0.005813      0.031801   0.001011  0.000267   \n",
       "K00754.01     0.001335    0.012658      0.016627   0.009347  0.003866   \n",
       "K00755.01     0.002072    0.006954      0.011196   0.000697  0.000228   \n",
       "K00114.01     0.006588    0.011597      0.035521   0.000269  0.001823   \n",
       "\n",
       "            koi_srho  koi_prad   koi_sma  koi_incl   koi_teq       ...        \\\n",
       "kepoi_name                                                         ...         \n",
       "K00752.01   0.003492  0.000011  0.038524  0.996124  0.072275       ...         \n",
       "K00752.02   0.003291  0.000014  0.131308  0.995097  0.036189       ...         \n",
       "K00754.01   0.000240  0.000167  0.009619  0.738798  0.134344       ...         \n",
       "K00755.01   0.002162  0.000013  0.014897  0.947668  0.135478       ...         \n",
       "K00114.01   0.000005  0.000195  0.036896  0.668453  0.128879       ...         \n",
       "\n",
       "            koi_fwm_srao  koi_fwm_sdeco  koi_fwm_prao  koi_fwm_pdeco  \\\n",
       "kepoi_name                                                             \n",
       "K00752.01       0.739274       0.802901      0.770674       0.137836   \n",
       "K00752.02       0.736435       0.803485      0.770840       0.137750   \n",
       "K00754.01       0.737825       0.801011      0.771295       0.137686   \n",
       "K00755.01       0.738095       0.801471      0.770728       0.137919   \n",
       "K00114.01       0.702100       0.849537      0.771297       0.136974   \n",
       "\n",
       "            koi_dicco_mra  koi_dicco_mdec  koi_dicco_msky  koi_dikco_mra  \\\n",
       "kepoi_name                                                                 \n",
       "K00752.01        0.319887        0.735977        0.002257       0.337466   \n",
       "K00752.02        0.325841        0.734043        0.004402       0.343309   \n",
       "K00754.01        0.316329        0.735464        0.003262       0.332664   \n",
       "K00755.01        0.320482        0.733172        0.001129       0.337324   \n",
       "K00114.01        0.252962        0.808607        0.100790       0.271669   \n",
       "\n",
       "            koi_dikco_mdec  koi_dikco_msky  \n",
       "kepoi_name                                  \n",
       "K00752.01         0.713451        0.003571  \n",
       "K00752.02         0.711688        0.005580  \n",
       "K00754.01         0.711494        0.003080  \n",
       "K00755.01         0.710761        0.000781  \n",
       "K00114.01         0.782124        0.099866  \n",
       "\n",
       "[5 rows x 41 columns]"
      ]
     },
     "execution_count": 123,
     "metadata": {},
     "output_type": "execute_result"
    }
   ],
   "source": [
    "from sklearn import preprocessing\n",
    "min_max_scaler = preprocessing.MinMaxScaler()\n",
    "koi_minmax = min_max_scaler.fit_transform(koi.values)\n",
    "koi_minmax = pd.DataFrame(koi_minmax,columns=koi.columns, index=koi.index)\n",
    "koi_minmax.head()"
   ]
  },
  {
   "cell_type": "markdown",
   "metadata": {},
   "source": [
    "# Validação Cruzada K-Fold\n",
    "\n",
    "Para evitar [*overfitting*](https://en.wikipedia.org/wiki/Overfitting) em um classificador, dividimos o conjunto de dados em subconjuntos de **treino** e **teste** (também chamado de _validação_, evitei este termo para não confundir com _training/test/validation sets_). Essa técnica é chamada de **validação cruzada**.\n",
    "- **Treino**: dados usados para definir os parâmetros do modelo classificador.\n",
    "- **Teste**: dados usados para avaliar a generalização do classificador, isto é, sua performance para dados desconhecidos.\n",
    "\n",
    "Existem diversas estratégias de validação cruzada. Neste trabalho usaremos a validação **k-fold**, a fim de estimar a qualidade de um modelo com boa confiabilidade. Ela se dá pelos seguintes passos:\n",
    "- O conjunto de dados é dividido em $k$ partes de tamanhos iguais;\n",
    "- O modelo é treinado $k$ vezes, em cada uma delas usando um dos subconjuntos como conjunto de teste e a união dos *k-1* subconjuntos restantes como conjunto de treinamento;\n",
    "    - Para cada iteração, o modelo é avaliado.\n",
    "- Por fim, a qualidade do modelo para a tarefa é sumarizada a partir dos resultados obtidos.\n",
    "\n",
    "Utilizaremos a implementação da classe `sklearn.model_selection.KFold`."
   ]
  },
  {
   "cell_type": "code",
   "execution_count": 124,
   "metadata": {},
   "outputs": [],
   "source": [
    "from sklearn.model_selection import KFold\n",
    "kfold = KFold(5, shuffle=True) # 5 e 10 são valores comumente escolhidos para k"
   ]
  },
  {
   "cell_type": "markdown",
   "metadata": {},
   "source": [
    "# Avaliação dos experimentos\n",
    "\n",
    "Cada experimento realizado será avaliado pelas seguintes métricas em relação ao conjunto de teste:\n",
    "- **Acurácia**: a fração do número de classificações corretas pelo total de elementos.\n",
    "- **Revocação**: a fração do número de classificações corretas de exoplanetas confirmados pelo total de exoplanetas confirmados.\n",
    "- **Precisão**: a fração do número de classificações corretas de exoplaentas confirmados pelo total de classificações como exoplanetas confirmados.\n",
    "- **Área abaixo da curva ROC (ROC AUC)**: resumidamente, o quão bem a predição distingue entre as duas classes de interesse.\n",
    "\n",
    "Para melhor organizar e facilitar o acesso os resultados, estes serão guardados em um `DataFrame`."
   ]
  },
  {
   "cell_type": "code",
   "execution_count": 125,
   "metadata": {},
   "outputs": [],
   "source": [
    "results = pd.DataFrame(np.zeros(shape=(12,4)),columns=['Acurácia', 'Precisão', 'Revocação', 'ROC AUC'])\n",
    "indexes = [['Naive Bayes', 'Decision Tree', 'SVM', 'k-NN', 'Random Forest', 'Gradient Tree Boosting'], ['Média', 'Desvio Padrão']]\n",
    "results.index = pd.MultiIndex.from_product(indexes, names=['Método', 'Medida'])"
   ]
  },
  {
   "cell_type": "markdown",
   "metadata": {},
   "source": [
    "Uma função para obter e empacotar essas métricas será bastante útil. Faremos uso do módulo `sklearn.metrics`:"
   ]
  },
  {
   "cell_type": "code",
   "execution_count": 126,
   "metadata": {},
   "outputs": [],
   "source": [
    "from sklearn import metrics\n",
    "\n",
    "def evaluate_prediction(y, y_pred):\n",
    "    return [\n",
    "        metrics.accuracy_score(y, y_pred),\n",
    "        metrics.precision_score(y, y_pred),\n",
    "        metrics.recall_score(y, y_pred),\n",
    "        metrics.roc_auc_score(y, y_pred)\n",
    "    ]"
   ]
  },
  {
   "cell_type": "markdown",
   "metadata": {},
   "source": [
    "---"
   ]
  },
  {
   "cell_type": "markdown",
   "metadata": {},
   "source": [
    "# Naive Bayes \n",
    "\n",
    "O Naive Bayes é um método que parte da suposição de que os atributos ($X$) das observações são condicionalmente independentes entre si, dado o valor da classe de interesse ($y$, ou `target`). Partindo dessa hipótese, a probabilidade de ocorrência de cada possível valor de `y` para uma observação do nosso conjunto de dados é facilmente calculado usando o teorema de Bayes.  \n",
    "\n",
    "A classificação de uma observação é então dada por:\n",
    "$$\\begin{align}\\begin{aligned}\\\\\\hat{y} = \\arg\\max_y P(y) \\prod_{i=1}^{n} P(x_i \\mid y),\\end{aligned}\\end{align}$$\n",
    "\n",
    "Para o cálculo de $P(x_i \\mid y)$, assumiremos que as distribuições de probabilidade das _features_ seguem uma normal. Por ser uma distribuição frequentemente observada, parece uma suposição razoável. O objeto `GaussianNB` realiza a parametrização do Naive Bayes dessa forma. \n",
    "\n",
    "Faremos apenas um experimento, que servirá como uma primeira tentativa de solução do problema, e base de comparação para os outros métodos."
   ]
  },
  {
   "cell_type": "code",
   "execution_count": 127,
   "metadata": {
    "scrolled": false
   },
   "outputs": [
    {
     "data": {
      "text/html": [
       "<div>\n",
       "<style scoped>\n",
       "    .dataframe tbody tr th:only-of-type {\n",
       "        vertical-align: middle;\n",
       "    }\n",
       "\n",
       "    .dataframe tbody tr th {\n",
       "        vertical-align: top;\n",
       "    }\n",
       "\n",
       "    .dataframe thead th {\n",
       "        text-align: right;\n",
       "    }\n",
       "</style>\n",
       "<table border=\"1\" class=\"dataframe\">\n",
       "  <thead>\n",
       "    <tr style=\"text-align: right;\">\n",
       "      <th></th>\n",
       "      <th>Acurácia</th>\n",
       "      <th>Precisão</th>\n",
       "      <th>Revocação</th>\n",
       "      <th>ROC AUC</th>\n",
       "    </tr>\n",
       "    <tr>\n",
       "      <th>Medida</th>\n",
       "      <th></th>\n",
       "      <th></th>\n",
       "      <th></th>\n",
       "      <th></th>\n",
       "    </tr>\n",
       "  </thead>\n",
       "  <tbody>\n",
       "    <tr>\n",
       "      <th>Média</th>\n",
       "      <td>0.798540</td>\n",
       "      <td>0.673276</td>\n",
       "      <td>0.974828</td>\n",
       "      <td>0.826656</td>\n",
       "    </tr>\n",
       "    <tr>\n",
       "      <th>Desvio Padrão</th>\n",
       "      <td>0.008714</td>\n",
       "      <td>0.007306</td>\n",
       "      <td>0.009247</td>\n",
       "      <td>0.010774</td>\n",
       "    </tr>\n",
       "  </tbody>\n",
       "</table>\n",
       "</div>"
      ],
      "text/plain": [
       "               Acurácia  Precisão  Revocação   ROC AUC\n",
       "Medida                                                \n",
       "Média          0.798540  0.673276   0.974828  0.826656\n",
       "Desvio Padrão  0.008714  0.007306   0.009247  0.010774"
      ]
     },
     "execution_count": 127,
     "metadata": {},
     "output_type": "execute_result"
    }
   ],
   "source": [
    "from sklearn.naive_bayes import GaussianNB\n",
    "gnb = GaussianNB()\n",
    "gnb_results = []\n",
    "for train, test in kfold.split(koi, target):\n",
    "    y_pred = gnb.fit(koi.iloc[train], target[train]).predict(koi.iloc[test])\n",
    "    gnb_results.append(evaluate_prediction(target[test], y_pred))\n",
    "gnb_results = np.array(gnb_results)\n",
    "results.loc[\"Naive Bayes\"] =  [gnb_results.mean(axis=0), gnb_results.std(axis=0)]\n",
    "results.loc[\"Naive Bayes\"]"
   ]
  },
  {
   "cell_type": "markdown",
   "metadata": {},
   "source": [
    "Embora o valor de revocação seja alto, a precisão do modelo é péssima; isto é, a classificação está muito branda, e o modelo acerta muito na classe de interesse, enquanto também produz muitos falsos positivos.  \n",
    "\n",
    "O cálculo de $P(y \\mid X)$ está favorecendo $P(y = 1 \\mid X)$ mais frequentemente do que deveria. Pode ser que classe a classe de exoplanetas $y = 0$ tenha _outliers_ para algumas features, enviesando as médias $\\mu_0$ e consequentemente fazendo com que $\\prod_{i=1}^{n} P(x_i \\mid y = 1)$ seja mais frequentemente maior que $\\prod_{i=1}^{n} P(x_i \\mid y = 0)$, por se tratarem de distribuições gaussianas.\n",
    "\n",
    "Além disso, a suposição ingênua de que os atributos de um KOI são condicionalmente independentes não é condizente com o problema real. Por exemplo, as dimensões de um corpo espacial têm influência sobre o seu trajeto no espaço.\n",
    "\n",
    "---"
   ]
  },
  {
   "cell_type": "markdown",
   "metadata": {},
   "source": [
    "# Decision Tree\n",
    "\n",
    "Árvores de decisão podem ser usadas tanto para classificação (o problema em questão) quanto para regressão. A ideia é prever a classe de um elemento por meio do reconhecimento de regras simples de decisão, deduzidas pelos dados de treino. Em outras palavras, o algoritmo classifica o elemento de entrada a partir de \"perguntas\" sobre seus atributos, as quais o classificam a partir da classe de observações do conjunto de treino que deram as mesmas respostas. \n",
    "\n",
    "Esse fluxo é representado por uma árvore binária, em que cada nó tem um conjunto de indivíduos e uma proposição lógica (a \"pergunta\"), cujo valor é usado para obter dois subconjuntos, os quais serão atribuídos aos nós filhos. Estes, de mesma forma, terão seus dados divididos por outra proposição, e assim por diante, até que subconjuntos puros sejam obtidos, ou a profundidade máxima da árvore seja atingida. \n",
    "\n",
    "Uma entrada é classificada de acordo com o nó-folha ao qual suas respostas às perguntas da árvore a direcionarem. Se o nó-folha não for associado a um subconjunto homogêneo, a classe associada será a de maior frequência.\n",
    "\n",
    "Vamos realizar experimentos variando a altura máxima permitida da árvore, a fim de analisar o impacto desse hiperparâmetro. O módulo `sklearn.tree` contém a implementação de uma árvore de decisão classificadora (`DecisionTreeClassifier`).\n",
    "\n",
    "O algoritmo será executado escolhendo as proposições que melhor dividem o conjunto de dados de um nó, usando a medida de impureza de Gini. Cada divisão será feita escolhendo a proposição que minimiza essa medida nas suas divisões, de forma gulosa. Também é possível selecionar proposições de forma estocástica, a fim de evitar _overfitting_ do modelo.\n",
    "\n",
    "Para começar, vamos experimentar usar uma árvore de tamanho máximo ilimitado. Isto é, a árvore cresce em profundidade o quanto for necessário para que os nós-folha tenham conjuntos puros. A árvore resultante terá acurácia perfeita para os dados de treino, mas deve sofrer de _overfitting_; por ser demasiadamente complexa para classificar o conjunto de treinamento perfeitamente, provavelmente não é um modelo muito generalizável. "
   ]
  },
  {
   "cell_type": "markdown",
   "metadata": {},
   "source": [
    "### Árvore de decisão com profundidade máxima ilimitada"
   ]
  },
  {
   "cell_type": "code",
   "execution_count": 128,
   "metadata": {},
   "outputs": [
    {
     "data": {
      "text/html": [
       "<div>\n",
       "<style scoped>\n",
       "    .dataframe tbody tr th:only-of-type {\n",
       "        vertical-align: middle;\n",
       "    }\n",
       "\n",
       "    .dataframe tbody tr th {\n",
       "        vertical-align: top;\n",
       "    }\n",
       "\n",
       "    .dataframe thead th {\n",
       "        text-align: right;\n",
       "    }\n",
       "</style>\n",
       "<table border=\"1\" class=\"dataframe\">\n",
       "  <thead>\n",
       "    <tr style=\"text-align: right;\">\n",
       "      <th></th>\n",
       "      <th>Acurácia</th>\n",
       "      <th>Precisão</th>\n",
       "      <th>Revocação</th>\n",
       "      <th>ROC AUC</th>\n",
       "    </tr>\n",
       "    <tr>\n",
       "      <th>Medida</th>\n",
       "      <th></th>\n",
       "      <th></th>\n",
       "      <th></th>\n",
       "      <th></th>\n",
       "    </tr>\n",
       "  </thead>\n",
       "  <tbody>\n",
       "    <tr>\n",
       "      <th>Média</th>\n",
       "      <td>0.950787</td>\n",
       "      <td>0.935728</td>\n",
       "      <td>0.943789</td>\n",
       "      <td>0.94980</td>\n",
       "    </tr>\n",
       "    <tr>\n",
       "      <th>Desvio Padrão</th>\n",
       "      <td>0.010594</td>\n",
       "      <td>0.025005</td>\n",
       "      <td>0.006501</td>\n",
       "      <td>0.00921</td>\n",
       "    </tr>\n",
       "  </tbody>\n",
       "</table>\n",
       "</div>"
      ],
      "text/plain": [
       "               Acurácia  Precisão  Revocação  ROC AUC\n",
       "Medida                                               \n",
       "Média          0.950787  0.935728   0.943789  0.94980\n",
       "Desvio Padrão  0.010594  0.025005   0.006501  0.00921"
      ]
     },
     "execution_count": 128,
     "metadata": {},
     "output_type": "execute_result"
    }
   ],
   "source": [
    "from sklearn import tree\n",
    "\n",
    "dt_maxdepth = tree.DecisionTreeClassifier()\n",
    "maxdepth_results = []\n",
    "trees = []\n",
    "for train, test in kfold.split(koi, target):\n",
    "    dt_maxdepth = dt_maxdepth.fit(koi.iloc[train], target.iloc[train])\n",
    "    y_pred = dt_maxdepth.predict(koi.iloc[test])\n",
    "    maxdepth_results.append(evaluate_prediction(target[test], y_pred))\n",
    "maxdepth_results = np.array(maxdepth_results)\n",
    "results.loc[\"Decision Tree\"] = [maxdepth_results.mean(axis=0), maxdepth_results.std(axis=0)]\n",
    "results.loc[\"Decision Tree\"]"
   ]
  },
  {
   "cell_type": "markdown",
   "metadata": {},
   "source": [
    "Em média, a árvore de decisão de profundidade ilimitada, embora apresente menor valor de revocação, já supera muito o Naive Bayes em todas as outras métricas.\n",
    "\n",
    "A profundidade máxima da árvore foi de:"
   ]
  },
  {
   "cell_type": "code",
   "execution_count": 129,
   "metadata": {},
   "outputs": [
    {
     "data": {
      "text/plain": [
       "27"
      ]
     },
     "execution_count": 129,
     "metadata": {},
     "output_type": "execute_result"
    }
   ],
   "source": [
    "dt_maxdepth.tree_.max_depth"
   ]
  },
  {
   "cell_type": "markdown",
   "metadata": {},
   "source": [
    "### Árvores de decisão com diferentes profundidades"
   ]
  },
  {
   "cell_type": "code",
   "execution_count": 130,
   "metadata": {
    "scrolled": false
   },
   "outputs": [
    {
     "data": {
      "text/plain": [
       "array([[0.74279132, 0.01470451],\n",
       "       [0.88195614, 0.03462142],\n",
       "       [0.92579731, 0.00288767],\n",
       "       [0.94251958, 0.0104643 ],\n",
       "       [0.95079103, 0.00750987],\n",
       "       [0.95136647, 0.00408531],\n",
       "       [0.95232672, 0.00686069],\n",
       "       [0.94829084, 0.00771235],\n",
       "       [0.95078807, 0.00312576],\n",
       "       [0.95213349, 0.00261402],\n",
       "       [0.94694155, 0.00648673],\n",
       "       [0.94828881, 0.0009579 ],\n",
       "       [0.94963349, 0.01174344],\n",
       "       [0.95117528, 0.00597678],\n",
       "       [0.94521097, 0.00559376],\n",
       "       [0.94502346, 0.01053716],\n",
       "       [0.94655952, 0.00405123],\n",
       "       [0.95444026, 0.00325465],\n",
       "       [0.94674998, 0.00840285],\n",
       "       [0.94848001, 0.0030976 ]])"
      ]
     },
     "execution_count": 130,
     "metadata": {},
     "output_type": "execute_result"
    }
   ],
   "source": [
    "n_experiments = 20\n",
    "dt_accuracies = np.zeros((n_experiments, 2))\n",
    "dt_results = []\n",
    "for i in range(1, n_experiments+1):\n",
    "    performance = []\n",
    "    for train, test in kfold.split(koi, target):\n",
    "        dtree = tree.DecisionTreeClassifier(max_depth=i)\n",
    "        dtree = dtree.fit(koi.iloc[train], target.iloc[train]) \n",
    "        y_pred = dtree.predict(koi.iloc[test])\n",
    "        performance.append(evaluate_prediction(target.iloc[test], y_pred))\n",
    "    dt_results.append(performance)\n",
    "    dt_accuracies[i-1] = [np.array(performance).mean(axis=0)[0], np.array(performance).std(axis=0)[0]]\n",
    "dt_accuracies"
   ]
  },
  {
   "cell_type": "code",
   "execution_count": 131,
   "metadata": {},
   "outputs": [
    {
     "data": {
      "image/png": "[encoded data removed]",
      "text/plain": [
       "<Figure size 864x576 with 1 Axes>"
      ]
     },
     "metadata": {},
     "output_type": "display_data"
    }
   ],
   "source": [
    "plt.figure(figsize=(12,8))\n",
    "plt.errorbar(range(1, n_experiments+1), dt_accuracies.T[0], dt_accuracies.T[1], marker='o', ecolor='r')\n",
    "plt.title(\"Acurácia de árvores de decisão com diferentes profundidades máximas\")\n",
    "plt.xlabel(\"Profundidade máxima\")\n",
    "plt.ylabel(\"Média das acurácias em validação cruzada 5-fold\")\n",
    "plt.xticks(range(1,n_experiments+1))\n",
    "plt.yticks(np.arange(0.7,1.05,0.05));"
   ]
  },
  {
   "cell_type": "markdown",
   "metadata": {},
   "source": [
    "A partir da altura 7, não enxergamos melhoria expressiva na acurácia, e a performance da árvore se \"estabiliza\". Conclui-se que uma árvore de profundidade máxima 7 já é razoável para classificação do problema utilizando esse método, por ter a vantagem de ser provavelmente mais generalizável que árvores de maior tamanho. Para futura comparação com outros classificadores, guardemos suas métricas de avaliação."
   ]
  },
  {
   "cell_type": "code",
   "execution_count": 132,
   "metadata": {},
   "outputs": [
    {
     "data": {
      "text/html": [
       "<div>\n",
       "<style scoped>\n",
       "    .dataframe tbody tr th:only-of-type {\n",
       "        vertical-align: middle;\n",
       "    }\n",
       "\n",
       "    .dataframe tbody tr th {\n",
       "        vertical-align: top;\n",
       "    }\n",
       "\n",
       "    .dataframe thead th {\n",
       "        text-align: right;\n",
       "    }\n",
       "</style>\n",
       "<table border=\"1\" class=\"dataframe\">\n",
       "  <thead>\n",
       "    <tr style=\"text-align: right;\">\n",
       "      <th></th>\n",
       "      <th>Acurácia</th>\n",
       "      <th>Precisão</th>\n",
       "      <th>Revocação</th>\n",
       "      <th>ROC AUC</th>\n",
       "    </tr>\n",
       "    <tr>\n",
       "      <th>Medida</th>\n",
       "      <th></th>\n",
       "      <th></th>\n",
       "      <th></th>\n",
       "      <th></th>\n",
       "    </tr>\n",
       "  </thead>\n",
       "  <tbody>\n",
       "    <tr>\n",
       "      <th>Média</th>\n",
       "      <td>0.952327</td>\n",
       "      <td>0.921906</td>\n",
       "      <td>0.963831</td>\n",
       "      <td>0.954133</td>\n",
       "    </tr>\n",
       "    <tr>\n",
       "      <th>Desvio Padrão</th>\n",
       "      <td>0.006861</td>\n",
       "      <td>0.011791</td>\n",
       "      <td>0.007817</td>\n",
       "      <td>0.006614</td>\n",
       "    </tr>\n",
       "  </tbody>\n",
       "</table>\n",
       "</div>"
      ],
      "text/plain": [
       "               Acurácia  Precisão  Revocação   ROC AUC\n",
       "Medida                                                \n",
       "Média          0.952327  0.921906   0.963831  0.954133\n",
       "Desvio Padrão  0.006861  0.011791   0.007817  0.006614"
      ]
     },
     "execution_count": 132,
     "metadata": {},
     "output_type": "execute_result"
    }
   ],
   "source": [
    "dt_results = np.array(dt_results[6])\n",
    "results.loc[\"Decision Tree\"] = [dt_results.mean(axis=0), dt_results.std(axis=0)]\n",
    "results.loc[\"Decision Tree\"]"
   ]
  },
  {
   "cell_type": "markdown",
   "metadata": {},
   "source": [
    "Uma propriedade interessante das árvores de decisão é que o processo de classificação é uma \"caixa branca\", que ao contrário da \"caixa preta\" de outros métodos, podemos visualizar e entender facilmente.\n",
    "\n",
    "No módulo `sklearn.tree` podemos exportar as árvores como representação _dot_, e usar o módulo `pydot` para salvá-las como imagens:"
   ]
  },
  {
   "cell_type": "code",
   "execution_count": 133,
   "metadata": {
    "scrolled": false
   },
   "outputs": [],
   "source": [
    "import pydot\n",
    "\n",
    "def image_from_tree(dt, filename):\n",
    "    dot_data = tree.export_graphviz(dt, feature_names=koi.columns,  \n",
    "                     class_names=[\"FALSE POSITIVE\", \"CONFIRMED\"],  \n",
    "                     filled=True, rounded=True,\n",
    "                     special_characters=True) \n",
    "    (graph, ) = pydot.graph_from_dot_data(dot_data)\n",
    "    graph.write_png(filename) \n",
    "image_from_tree(tree.DecisionTreeClassifier().fit(koi, target), \"dt_maxdepth.png\")\n",
    "image_from_tree(tree.DecisionTreeClassifier(max_depth=3).fit(koi, target), \"dt_depth3.png\")\n",
    "image_from_tree(tree.DecisionTreeClassifier(max_depth=7).fit(koi, target), \"dt_depth7.png\")"
   ]
  },
  {
   "cell_type": "markdown",
   "metadata": {},
   "source": [
    "### Execute esta célula após a acima para visualizar as imagens\n",
    "\n",
    "Na representação gráfica, temos as perguntas, a impureza de Gini de cada subconjunto, o número de amostras no subconjunto, a quantidade de elementos por classe, e a classe associada ao nó. Além disso, a cor dos nós representa a sua homogeneidade.\n",
    "\n",
    "![Árvore de Profundidade Ilimitada](dt_maxdepth.png)\n",
    "É possível ver que muitas das folhas da árvore de máxima profundidade possuem uma ou poucas observações, e é esse o _overfitting_ do modelo; condições demasiadamente complexas para **perfeitamente** classificar, **especificamente**, o conjunto de treinamento.\n",
    "\n",
    "![Árvore de Profundidade Máxima 3](dt_depth3.png)\n",
    "\n",
    "![Árvore de Profundidade Máxima 7](dt_depth7.png)\n",
    "Com a representação das árvores de profundidade 3 e 7 lado a lado, fica evidente a necessidade de expansão da árvore para aumentar a acurácia do modelo; várias ramificações após as folhas da primeira árvore alteram a classificação da entrada.\n",
    "\n",
    "---"
   ]
  },
  {
   "cell_type": "markdown",
   "metadata": {},
   "source": [
    "# SVM"
   ]
  },
  {
   "cell_type": "markdown",
   "metadata": {},
   "source": [
    "**Support-Vector Machines** (SVM) são modelos de aprendizado supervisionado, usados para classificação e análise de regressão. Diferentemente do Naive Bayes e das Árvores de Decisão, trata-se de um modelo não-probabilístico; isto é, um SVM apenas atribui uma entrada a uma categoria ou outra, sem obter distribuições de probabilidade (embora existam métodos para adapatar o SVM a esse contexto). Além disso, o SVM é um classificador binário (embora existam procedimentos que permitem estender o SVM para problemas multiclasse).\n",
    "\n",
    "O funcionamento do SVM consiste em representar o conjunto de dados em um espaço geométrico em que cada atributo define uma dimensão, para, então, construir hiperplanos nesse espaço. Em um problema de classificação, estes hiperplanos servem como um separador entre os representantes de cada classe, mas podem ser usados também para regressão, entre outras tarefas. \n",
    "\n",
    "É comum que os conjuntos de interesse não sejam linearmente separáveis no espaço construído. Para contornar essa limitação do uso de hiperplanos, o espaço é mapeado para outro de muito mais dimensões, presumivelmente tornando as classes mais facilmente separáveis. Esse mapeamento é definido em termos de uma função **kernel**, escolhida de acordo com sua adequação ao problema. Em outras palavras, a _kernel_ define a curvatura, ou \"desenho\", do hiperplano.\n",
    "\n",
    "Vamos realizar experimentos a fim de analisar a performance do SVM para o nosso problema de classificação de KOIs, avaliando a adequação das funções linear, sigmoide, polinomial e RBF como _kernel_. A classe `sklearn.SVM.SVC` implementa a classificação binária por SVM. Para melhorar a performance do SVM, utilizaremos dados **normalizados** _(a experimentação com valores absolutos levou tempo indeterminado, tornando-se inviável considerar a opção)_. Para o valor de **C**, hiperparâmetro que penaliza erros de classificação no treinamento do modelo, os melhores resultados encontrados foram com $C = 1000$, escolhendo hiperplanos com menor margem de distância dos pontos."
   ]
  },
  {
   "cell_type": "markdown",
   "metadata": {},
   "source": [
    "### SVM com kernel linear"
   ]
  },
  {
   "cell_type": "code",
   "execution_count": 134,
   "metadata": {},
   "outputs": [
    {
     "data": {
      "text/html": [
       "<div>\n",
       "<style scoped>\n",
       "    .dataframe tbody tr th:only-of-type {\n",
       "        vertical-align: middle;\n",
       "    }\n",
       "\n",
       "    .dataframe tbody tr th {\n",
       "        vertical-align: top;\n",
       "    }\n",
       "\n",
       "    .dataframe thead th {\n",
       "        text-align: right;\n",
       "    }\n",
       "</style>\n",
       "<table border=\"1\" class=\"dataframe\">\n",
       "  <thead>\n",
       "    <tr style=\"text-align: right;\">\n",
       "      <th></th>\n",
       "      <th>Acurácia</th>\n",
       "      <th>Precisão</th>\n",
       "      <th>Revocação</th>\n",
       "      <th>ROC AUC</th>\n",
       "    </tr>\n",
       "    <tr>\n",
       "      <th>Medida</th>\n",
       "      <th></th>\n",
       "      <th></th>\n",
       "      <th></th>\n",
       "      <th></th>\n",
       "    </tr>\n",
       "  </thead>\n",
       "  <tbody>\n",
       "    <tr>\n",
       "      <th>Média</th>\n",
       "      <td>0.950982</td>\n",
       "      <td>0.924149</td>\n",
       "      <td>0.957067</td>\n",
       "      <td>0.951926</td>\n",
       "    </tr>\n",
       "    <tr>\n",
       "      <th>Desvio Padrão</th>\n",
       "      <td>0.005752</td>\n",
       "      <td>0.008347</td>\n",
       "      <td>0.010596</td>\n",
       "      <td>0.006304</td>\n",
       "    </tr>\n",
       "  </tbody>\n",
       "</table>\n",
       "</div>"
      ],
      "text/plain": [
       "               Acurácia  Precisão  Revocação   ROC AUC\n",
       "Medida                                                \n",
       "Média          0.950982  0.924149   0.957067  0.951926\n",
       "Desvio Padrão  0.005752  0.008347   0.010596  0.006304"
      ]
     },
     "execution_count": 134,
     "metadata": {},
     "output_type": "execute_result"
    }
   ],
   "source": [
    "from sklearn.svm import SVC\n",
    "svm_linear = SVC(kernel='linear', C=1000)\n",
    "svm_linear_results = []\n",
    "for train, test in kfold.split(koi_minmax, target):\n",
    "    svm_linear = svm_linear.fit(koi_minmax.iloc[train], target.iloc[train])\n",
    "    y_pred = svm_linear.predict(koi_minmax.iloc[test])\n",
    "    svm_linear_results.append(evaluate_prediction(target.iloc[test], y_pred))\n",
    "svm_linear_results = np.array(svm_linear_results)\n",
    "results.loc[\"SVM\"] = [svm_linear_results.mean(axis=0), svm_linear_results.std(axis=0)]\n",
    "results.loc[\"SVM\"]"
   ]
  },
  {
   "cell_type": "markdown",
   "metadata": {},
   "source": [
    "### SVM com kernel sigmoide\n",
    "\n",
    "Para kernels não-lineares, o hiperparâmetro _gamma_ define o quanto o modelo tenta se adequar perfeitamente ao conjunto de treinamento. Valores altos de _gamma_ causam _overfitting_. Escolhemos `'scale'`, que na verdade é $1/n*\\sigma^2$, sendo $n$ o número de _features_, e $\\sigma^2$ a variância dos dados."
   ]
  },
  {
   "cell_type": "code",
   "execution_count": 135,
   "metadata": {},
   "outputs": [
    {
     "data": {
      "text/html": [
       "<div>\n",
       "<style scoped>\n",
       "    .dataframe tbody tr th:only-of-type {\n",
       "        vertical-align: middle;\n",
       "    }\n",
       "\n",
       "    .dataframe tbody tr th {\n",
       "        vertical-align: top;\n",
       "    }\n",
       "\n",
       "    .dataframe thead th {\n",
       "        text-align: right;\n",
       "    }\n",
       "</style>\n",
       "<table border=\"1\" class=\"dataframe\">\n",
       "  <thead>\n",
       "    <tr style=\"text-align: right;\">\n",
       "      <th></th>\n",
       "      <th>Acurácia</th>\n",
       "      <th>Precisão</th>\n",
       "      <th>Revocação</th>\n",
       "      <th>ROC AUC</th>\n",
       "    </tr>\n",
       "    <tr>\n",
       "      <th>Medida</th>\n",
       "      <th></th>\n",
       "      <th></th>\n",
       "      <th></th>\n",
       "      <th></th>\n",
       "    </tr>\n",
       "  </thead>\n",
       "  <tbody>\n",
       "    <tr>\n",
       "      <th>Média</th>\n",
       "      <td>0.812951</td>\n",
       "      <td>0.831955</td>\n",
       "      <td>0.673756</td>\n",
       "      <td>0.790740</td>\n",
       "    </tr>\n",
       "    <tr>\n",
       "      <th>Desvio Padrão</th>\n",
       "      <td>0.017891</td>\n",
       "      <td>0.021679</td>\n",
       "      <td>0.034277</td>\n",
       "      <td>0.019948</td>\n",
       "    </tr>\n",
       "  </tbody>\n",
       "</table>\n",
       "</div>"
      ],
      "text/plain": [
       "               Acurácia  Precisão  Revocação   ROC AUC\n",
       "Medida                                                \n",
       "Média          0.812951  0.831955   0.673756  0.790740\n",
       "Desvio Padrão  0.017891  0.021679   0.034277  0.019948"
      ]
     },
     "execution_count": 135,
     "metadata": {},
     "output_type": "execute_result"
    }
   ],
   "source": [
    "from sklearn.svm import SVC\n",
    "svm_sigmoid = SVC(kernel='sigmoid', gamma='scale')\n",
    "svm_sigmoid_results = []\n",
    "for train, test in kfold.split(koi_minmax, target):\n",
    "    svm_sigmoid = svm_sigmoid.fit(koi_minmax.iloc[train], target.iloc[train])\n",
    "    y_pred = svm_sigmoid.predict(koi_minmax.iloc[test])\n",
    "    svm_sigmoid_results.append(evaluate_prediction(target.iloc[test], y_pred))\n",
    "svm_sigmoid_results = np.array(svm_sigmoid_results)\n",
    "results.loc[\"SVM\"] = [svm_sigmoid_results.mean(axis=0), svm_sigmoid_results.std(axis=0)]\n",
    "results.loc[\"SVM\"]"
   ]
  },
  {
   "cell_type": "markdown",
   "metadata": {},
   "source": [
    "### SVM com kernel polinomial"
   ]
  },
  {
   "cell_type": "code",
   "execution_count": 136,
   "metadata": {},
   "outputs": [
    {
     "data": {
      "text/html": [
       "<div>\n",
       "<style scoped>\n",
       "    .dataframe tbody tr th:only-of-type {\n",
       "        vertical-align: middle;\n",
       "    }\n",
       "\n",
       "    .dataframe tbody tr th {\n",
       "        vertical-align: top;\n",
       "    }\n",
       "\n",
       "    .dataframe thead th {\n",
       "        text-align: right;\n",
       "    }\n",
       "</style>\n",
       "<table border=\"1\" class=\"dataframe\">\n",
       "  <thead>\n",
       "    <tr style=\"text-align: right;\">\n",
       "      <th></th>\n",
       "      <th>Acurácia</th>\n",
       "      <th>Precisão</th>\n",
       "      <th>Revocação</th>\n",
       "      <th>ROC AUC</th>\n",
       "    </tr>\n",
       "    <tr>\n",
       "      <th>Medida</th>\n",
       "      <th></th>\n",
       "      <th></th>\n",
       "      <th></th>\n",
       "      <th></th>\n",
       "    </tr>\n",
       "  </thead>\n",
       "  <tbody>\n",
       "    <tr>\n",
       "      <th>Média</th>\n",
       "      <td>0.943677</td>\n",
       "      <td>0.908793</td>\n",
       "      <td>0.956697</td>\n",
       "      <td>0.945804</td>\n",
       "    </tr>\n",
       "    <tr>\n",
       "      <th>Desvio Padrão</th>\n",
       "      <td>0.007012</td>\n",
       "      <td>0.016200</td>\n",
       "      <td>0.003913</td>\n",
       "      <td>0.005919</td>\n",
       "    </tr>\n",
       "  </tbody>\n",
       "</table>\n",
       "</div>"
      ],
      "text/plain": [
       "               Acurácia  Precisão  Revocação   ROC AUC\n",
       "Medida                                                \n",
       "Média          0.943677  0.908793   0.956697  0.945804\n",
       "Desvio Padrão  0.007012  0.016200   0.003913  0.005919"
      ]
     },
     "execution_count": 136,
     "metadata": {},
     "output_type": "execute_result"
    }
   ],
   "source": [
    "from sklearn.svm import SVC\n",
    "svm_poly = SVC(kernel='poly', degree=3, gamma='scale', C=1000)\n",
    "svm_poly_results = []\n",
    "for train, test in kfold.split(koi_minmax, target):\n",
    "    svm_poly = svm_poly.fit(koi_minmax.iloc[train], target.iloc[train])\n",
    "    y_pred = svm_poly.predict(koi_minmax.iloc[test])\n",
    "    svm_poly_results.append(evaluate_prediction(target.iloc[test], y_pred))\n",
    "svm_poly_results = np.array(svm_poly_results)\n",
    "results.loc[\"SVM\"] = [svm_poly_results.mean(axis=0), svm_poly_results.std(axis=0)]\n",
    "results.loc[\"SVM\"]"
   ]
  },
  {
   "cell_type": "markdown",
   "metadata": {},
   "source": [
    "### SVM com kernel RBF"
   ]
  },
  {
   "cell_type": "code",
   "execution_count": 137,
   "metadata": {},
   "outputs": [
    {
     "data": {
      "text/html": [
       "<div>\n",
       "<style scoped>\n",
       "    .dataframe tbody tr th:only-of-type {\n",
       "        vertical-align: middle;\n",
       "    }\n",
       "\n",
       "    .dataframe tbody tr th {\n",
       "        vertical-align: top;\n",
       "    }\n",
       "\n",
       "    .dataframe thead th {\n",
       "        text-align: right;\n",
       "    }\n",
       "</style>\n",
       "<table border=\"1\" class=\"dataframe\">\n",
       "  <thead>\n",
       "    <tr style=\"text-align: right;\">\n",
       "      <th></th>\n",
       "      <th>Acurácia</th>\n",
       "      <th>Precisão</th>\n",
       "      <th>Revocação</th>\n",
       "      <th>ROC AUC</th>\n",
       "    </tr>\n",
       "    <tr>\n",
       "      <th>Medida</th>\n",
       "      <th></th>\n",
       "      <th></th>\n",
       "      <th></th>\n",
       "      <th></th>\n",
       "    </tr>\n",
       "  </thead>\n",
       "  <tbody>\n",
       "    <tr>\n",
       "      <th>Média</th>\n",
       "      <td>0.943672</td>\n",
       "      <td>0.907075</td>\n",
       "      <td>0.959270</td>\n",
       "      <td>0.946201</td>\n",
       "    </tr>\n",
       "    <tr>\n",
       "      <th>Desvio Padrão</th>\n",
       "      <td>0.007963</td>\n",
       "      <td>0.014074</td>\n",
       "      <td>0.006156</td>\n",
       "      <td>0.007580</td>\n",
       "    </tr>\n",
       "  </tbody>\n",
       "</table>\n",
       "</div>"
      ],
      "text/plain": [
       "               Acurácia  Precisão  Revocação   ROC AUC\n",
       "Medida                                                \n",
       "Média          0.943672  0.907075   0.959270  0.946201\n",
       "Desvio Padrão  0.007963  0.014074   0.006156  0.007580"
      ]
     },
     "execution_count": 137,
     "metadata": {},
     "output_type": "execute_result"
    }
   ],
   "source": [
    "from sklearn.svm import SVC\n",
    "svm_rbf = SVC(kernel='rbf', gamma='scale', C=1000)\n",
    "svm_rbf_results = []\n",
    "for train, test in kfold.split(koi_minmax, target):\n",
    "    svm_rbf = svm_rbf.fit(koi_minmax.iloc[train], target.iloc[train])\n",
    "    y_pred = svm_rbf.predict(koi_minmax.iloc[test])\n",
    "    svm_rbf_results.append(evaluate_prediction(target.iloc[test], y_pred))\n",
    "svm_rbf_results = np.array(svm_rbf_results)\n",
    "results.loc[\"SVM\"] = [svm_rbf_results.mean(axis=0), svm_rbf_results.std(axis=0)]\n",
    "results.loc[\"SVM\"]"
   ]
  },
  {
   "cell_type": "markdown",
   "metadata": {},
   "source": [
    "Embora melhor que o Naive Bayes, o SVM não se saiu melhor do que as árvores de decisão. Como a acurácia resultante do experimento com _kernel_ linear foi, em média, maior do que as outras opções de _kernel_, o problema é, aparentemente, de natureza linear."
   ]
  },
  {
   "cell_type": "code",
   "execution_count": 138,
   "metadata": {},
   "outputs": [],
   "source": [
    "results.loc[\"SVM\"] = [svm_linear_results.mean(axis=0), svm_linear_results.std(axis=0)]"
   ]
  },
  {
   "cell_type": "markdown",
   "metadata": {},
   "source": [
    "---"
   ]
  },
  {
   "cell_type": "markdown",
   "metadata": {},
   "source": [
    "# k-NN\n",
    "\n",
    "**k-NN**, ou **k-Nearest Neighbors**, diferentemente dos outros métodos apresentados, é um algoritmo de aprendizagem preguiçosa (_lazy learning_). Isto é, a generalização do modelo é feita à medida em que novas entradas são introduzidas, não durante o seu treinamento. Seu uso é mais recomendado para problemas de baixa dimensionalidade, e se mostra eficiente em conjuntos de dados grandes e que se atualizam frequentemente.\n",
    "\n",
    "Dada uma nova observação não-classificada, o algoritmo consiste em classificá-la a partir da classe mais frequente entre os seus $k$ elementos mais próximos. Por isso, o método geralmente não se sai bem para problemas com alta dimensionalidade; o conceito de distância euclidiana que temos na geometria perde a sua conotação nesses casos. Um grande número de dimensões, além de requerer quantidades exponencialmente maiores de dados, também torna o método mais propenso a _overfitting_.\n",
    "\n",
    "Como todo hiperparâmetro, não existe um valor ótimo para $k$, e este deve ser escolhido de acordo com o conjunto de dados. Um valor pequeno torna a classificação mais suscetível a ruídos, apresentando maior variação, e, embora valores grandes contornem esse problema, são computacionalmente mais caros e causam _overfitting_.\n",
    "\n",
    "Vamos realizar experimentos variando o hiperparâmetro $k$, a fim de analisar seu impacto na qualidade do método para o problema em questão. O k-NN é implementado pela classe `sklearn.neighbors.KNeighborsClassifier`. É importante que o método seja utilizado com dados normalizados, para que _features_ em intervalos maiores não possuam mais peso na classificação por isso (i.e., atributos de grandezas menores terão menor influência no cálculo da distância euclidiana).\n",
    "\n",
    "### Variação da média da acurácia na validação cruzada 5-fold para diferentes valores de k"
   ]
  },
  {
   "cell_type": "code",
   "execution_count": 139,
   "metadata": {
    "scrolled": true
   },
   "outputs": [
    {
     "data": {
      "text/plain": [
       "array([[0.82121832, 0.01082231],\n",
       "       [0.83045241, 0.01142418],\n",
       "       [0.83813733, 0.00724788],\n",
       "       [0.8429465 , 0.00655811],\n",
       "       [0.8387198 , 0.00857321],\n",
       "       [0.84928711, 0.00457651],\n",
       "       [0.8364134 , 0.00926845],\n",
       "       [0.84582502, 0.0141737 ],\n",
       "       [0.83448921, 0.00649482],\n",
       "       [0.84025345, 0.00824086],\n",
       "       [0.83198552, 0.00938222],\n",
       "       [0.84121555, 0.0133762 ],\n",
       "       [0.83390398, 0.01468677],\n",
       "       [0.84313622, 0.01101649],\n",
       "       [0.83640896, 0.00524771],\n",
       "       [0.84525068, 0.00736821],\n",
       "       [0.83275493, 0.01467483],\n",
       "       [0.84371629, 0.01545849],\n",
       "       [0.8346745 , 0.01040256],\n",
       "       [0.84468023, 0.01432242]])"
      ]
     },
     "execution_count": 139,
     "metadata": {},
     "output_type": "execute_result"
    }
   ],
   "source": [
    "from sklearn.neighbors import KNeighborsClassifier\n",
    "n_experiments = 20\n",
    "knn_accuracies = np.zeros((n_experiments, 2))\n",
    "knn_results = []\n",
    "for i in range(1, n_experiments+1):\n",
    "    performance = []\n",
    "    for train, test in kfold.split(koi_minmax, target):\n",
    "        knn = KNeighborsClassifier(n_neighbors=i)\n",
    "        knn = knn.fit(koi_minmax.iloc[train], target.iloc[train]) \n",
    "        y_pred = knn.predict(koi_minmax.iloc[test])\n",
    "        performance.append(evaluate_prediction(target.iloc[test], y_pred))\n",
    "    knn_results.append(performance)\n",
    "    knn_accuracies[i-1] = [np.array(performance).mean(axis=0)[0], np.array(performance).std(axis=0)[0]]\n",
    "knn_accuracies"
   ]
  },
  {
   "cell_type": "code",
   "execution_count": 140,
   "metadata": {},
   "outputs": [
    {
     "data": {
      "image/png": "[encoded data removed]",
      "text/plain": [
       "<Figure size 864x576 with 1 Axes>"
      ]
     },
     "metadata": {},
     "output_type": "display_data"
    }
   ],
   "source": [
    "plt.figure(figsize=(12,8))\n",
    "plt.errorbar(range(1, n_experiments+1), knn_accuracies.T[0], knn_accuracies.T[1], marker='o', ecolor='r')\n",
    "plt.title(\"Acurácia do k-NN para diferentes valores de k\")\n",
    "plt.xlabel(\"k\")\n",
    "plt.ylabel(\"Média das acurácias em validação cruzada 5-fold\")\n",
    "plt.xticks(range(1,n_experiments+1))\n",
    "plt.yticks(np.arange(0.8,1.05,0.05));"
   ]
  },
  {
   "cell_type": "markdown",
   "metadata": {},
   "source": [
    "Podemos ver que a a maior acurácia foi atingida com $k = 4$. Valores menores são muito afetados por ruído, e valores maiores não apresentam melhoria, possivelmente por _overfitting_.\n",
    "\n",
    "Em comparação com os outros métodos, o k-NN deixou a desejar; como mencionado anteriormente, o algoritmo não é muito eficaz com dados de alta dimensionalidade, e, no nosso problema, temos observações com **41** _features_."
   ]
  },
  {
   "cell_type": "code",
   "execution_count": 141,
   "metadata": {
    "scrolled": true
   },
   "outputs": [
    {
     "data": {
      "text/html": [
       "<div>\n",
       "<style scoped>\n",
       "    .dataframe tbody tr th:only-of-type {\n",
       "        vertical-align: middle;\n",
       "    }\n",
       "\n",
       "    .dataframe tbody tr th {\n",
       "        vertical-align: top;\n",
       "    }\n",
       "\n",
       "    .dataframe thead th {\n",
       "        text-align: right;\n",
       "    }\n",
       "</style>\n",
       "<table border=\"1\" class=\"dataframe\">\n",
       "  <thead>\n",
       "    <tr style=\"text-align: right;\">\n",
       "      <th></th>\n",
       "      <th>Acurácia</th>\n",
       "      <th>Precisão</th>\n",
       "      <th>Revocação</th>\n",
       "      <th>ROC AUC</th>\n",
       "    </tr>\n",
       "    <tr>\n",
       "      <th>Medida</th>\n",
       "      <th></th>\n",
       "      <th></th>\n",
       "      <th></th>\n",
       "      <th></th>\n",
       "    </tr>\n",
       "  </thead>\n",
       "  <tbody>\n",
       "    <tr>\n",
       "      <th>Média</th>\n",
       "      <td>0.842947</td>\n",
       "      <td>0.781805</td>\n",
       "      <td>0.846613</td>\n",
       "      <td>0.843218</td>\n",
       "    </tr>\n",
       "    <tr>\n",
       "      <th>Desvio Padrão</th>\n",
       "      <td>0.006558</td>\n",
       "      <td>0.014160</td>\n",
       "      <td>0.019783</td>\n",
       "      <td>0.008067</td>\n",
       "    </tr>\n",
       "  </tbody>\n",
       "</table>\n",
       "</div>"
      ],
      "text/plain": [
       "               Acurácia  Precisão  Revocação   ROC AUC\n",
       "Medida                                                \n",
       "Média          0.842947  0.781805   0.846613  0.843218\n",
       "Desvio Padrão  0.006558  0.014160   0.019783  0.008067"
      ]
     },
     "execution_count": 141,
     "metadata": {},
     "output_type": "execute_result"
    }
   ],
   "source": [
    "knn_results = np.array(knn_results[3])\n",
    "results.loc[\"k-NN\"] = [knn_results.mean(axis=0), knn_results.std(axis=0)]\n",
    "results.loc[\"k-NN\"]"
   ]
  },
  {
   "cell_type": "markdown",
   "metadata": {},
   "source": [
    "---\n"
   ]
  },
  {
   "cell_type": "markdown",
   "metadata": {},
   "source": [
    "# Random Forest\n",
    "\n",
    "Random Forest (_floresta aleatória_) é um método de aprendizado _ensemble_ (conjunto) usado para classificação, regressão e outras tarefas. Como o nome sugere, consiste na construção de múltiplas árvores de decisão. As árvores são treinadas com os mesmos dados, e, fornecida uma entrada, a floresta retorna, em tarefas de classificação, a classe de maior frequência no conjunto de suas saídas (essa estratégia é conhecida como _bootstrap aggregating_, ou _bagging_).\n",
    "\n",
    "A motivação por trás do Random Forest é contornar o hábito de _overfitting_ inerente às árvores de decisão. As árvores da floresta são construídas utilizando uma combinação aleatória de um número de features das observações (geralmente $\\sqrt n$).\n",
    "\n",
    "Realizaremos um experimento a fim de avaliar a adequação do uso de Random Forest para o nosso problema. Vamos analisar a variação da acurácia para diferentes quantidades de árvores na floresta, e selecionar a de melhor resultado. A dimensionalidade das árvores será mantida como $\\sqrt n$, e o critério de ramificação será, assim como no experimento com árvores de decisão, a impureza de Gini. O método é implementado pela classe `sklearn.ensemble.RandomForestClassifier`."
   ]
  },
  {
   "cell_type": "code",
   "execution_count": 142,
   "metadata": {},
   "outputs": [
    {
     "data": {
      "text/plain": [
       "array([[0.93887128, 0.0057679 ],\n",
       "       [0.95597816, 0.00804926],\n",
       "       [0.95770912, 0.00218064],\n",
       "       [0.96309133, 0.00254749],\n",
       "       [0.95963053, 0.00349756],\n",
       "       [0.96732062, 0.00315593],\n",
       "       [0.96444007, 0.00717486],\n",
       "       [0.96251533, 0.00766316],\n",
       "       [0.96674333, 0.00445191],\n",
       "       [0.96962869, 0.0079115 ],\n",
       "       [0.96674315, 0.00157069],\n",
       "       [0.96578124, 0.0057902 ],\n",
       "       [0.96866715, 0.00854194],\n",
       "       [0.96597447, 0.00401598],\n",
       "       [0.96693601, 0.00387291],\n",
       "       [0.96885631, 0.00393451],\n",
       "       [0.9682829 , 0.0051833 ],\n",
       "       [0.96962758, 0.00367308],\n",
       "       [0.96943435, 0.0044447 ],\n",
       "       [0.97020358, 0.00478807]])"
      ]
     },
     "execution_count": 142,
     "metadata": {},
     "output_type": "execute_result"
    }
   ],
   "source": [
    "from sklearn.ensemble import RandomForestClassifier\n",
    "\n",
    "n_experiments = 20\n",
    "rf_accuracies = np.zeros((n_experiments, 2))\n",
    "rf_results = []\n",
    "for i in range(2, n_experiments+2):\n",
    "    performance = []\n",
    "    for train, test in kfold.split(koi, target):\n",
    "        rf = RandomForestClassifier(n_estimators=i, bootstrap=False)\n",
    "        rf = rf.fit(koi.iloc[train], target.iloc[train]) \n",
    "        y_pred = rf.predict(koi.iloc[test])\n",
    "        performance.append(evaluate_prediction(target.iloc[test], y_pred))\n",
    "    rf_results.append(performance)\n",
    "    rf_accuracies[i-2] = [np.array(performance).mean(axis=0)[0], np.array(performance).std(axis=0)[0]]\n",
    "rf_accuracies"
   ]
  },
  {
   "cell_type": "code",
   "execution_count": 143,
   "metadata": {},
   "outputs": [
    {
     "data": {
      "image/png": "[encoded data removed]",
      "text/plain": [
       "<Figure size 864x576 with 1 Axes>"
      ]
     },
     "metadata": {},
     "output_type": "display_data"
    }
   ],
   "source": [
    "plt.figure(figsize=(12,8))\n",
    "plt.errorbar(range(2, n_experiments+2), rf_accuracies.T[0], rf_accuracies.T[1], marker='o', ecolor='r')\n",
    "plt.title(\"Acurácia do Random Forest para diferentes quantidades de árvores\")\n",
    "plt.xlabel(\"Número de árvores\")\n",
    "plt.ylabel(\"Média das acurácias em validação cruzada 5-fold\")\n",
    "plt.xticks(range(1,n_experiments+2))\n",
    "plt.yticks(np.arange(0.8,1.05,0.05));"
   ]
  },
  {
   "cell_type": "markdown",
   "metadata": {},
   "source": [
    "Vamos selecionar a Random Forest de maior acurácia média para comparação com os outros modelos."
   ]
  },
  {
   "cell_type": "code",
   "execution_count": 144,
   "metadata": {},
   "outputs": [
    {
     "data": {
      "text/html": [
       "<div>\n",
       "<style scoped>\n",
       "    .dataframe tbody tr th:only-of-type {\n",
       "        vertical-align: middle;\n",
       "    }\n",
       "\n",
       "    .dataframe tbody tr th {\n",
       "        vertical-align: top;\n",
       "    }\n",
       "\n",
       "    .dataframe thead th {\n",
       "        text-align: right;\n",
       "    }\n",
       "</style>\n",
       "<table border=\"1\" class=\"dataframe\">\n",
       "  <thead>\n",
       "    <tr style=\"text-align: right;\">\n",
       "      <th></th>\n",
       "      <th>Acurácia</th>\n",
       "      <th>Precisão</th>\n",
       "      <th>Revocação</th>\n",
       "      <th>ROC AUC</th>\n",
       "    </tr>\n",
       "    <tr>\n",
       "      <th>Medida</th>\n",
       "      <th></th>\n",
       "      <th></th>\n",
       "      <th></th>\n",
       "      <th></th>\n",
       "    </tr>\n",
       "  </thead>\n",
       "  <tbody>\n",
       "    <tr>\n",
       "      <th>Média</th>\n",
       "      <td>0.970204</td>\n",
       "      <td>0.96249</td>\n",
       "      <td>0.963930</td>\n",
       "      <td>0.969216</td>\n",
       "    </tr>\n",
       "    <tr>\n",
       "      <th>Desvio Padrão</th>\n",
       "      <td>0.004788</td>\n",
       "      <td>0.00721</td>\n",
       "      <td>0.006275</td>\n",
       "      <td>0.004898</td>\n",
       "    </tr>\n",
       "  </tbody>\n",
       "</table>\n",
       "</div>"
      ],
      "text/plain": [
       "               Acurácia  Precisão  Revocação   ROC AUC\n",
       "Medida                                                \n",
       "Média          0.970204   0.96249   0.963930  0.969216\n",
       "Desvio Padrão  0.004788   0.00721   0.006275  0.004898"
      ]
     },
     "execution_count": 144,
     "metadata": {},
     "output_type": "execute_result"
    }
   ],
   "source": [
    "rf_results = np.array(rf_results[rf_accuracies.argmax(axis=0)[0]])\n",
    "results.loc[\"Random Forest\"] = [rf_results.mean(axis=0), rf_results.std(axis=0)]\n",
    "results.loc[\"Random Forest\"]"
   ]
  },
  {
   "cell_type": "markdown",
   "metadata": {},
   "source": [
    "Podemos ver que a estratégia de Random Forest cumpriu sua finalidade de contornar o overfitting das árvores de decisão, uma vez que apresentou métricas melhores que as obtidas com o uso de apenas uma árvore. Ademais, o crescimento no número de árvores geralmente não causa _overfitting_ [(fonte)](https://www.stat.berkeley.edu/~breiman/RandomForests/cc_home.htm#remarks).\n",
    "\n",
    "---"
   ]
  },
  {
   "cell_type": "markdown",
   "metadata": {},
   "source": [
    "# Gradient Tree Boosting\n",
    "\n",
    "Boosting é uma técnica de aprendizado supervisionado conjunto, usado em tarefas de regressão e classificação. Em cada iteração $1 \\leq m \\leq M$ do método, existe um modelo imperfeito $F_m$. O algoritmo melhora o modelo adicionando outro estimador $h$:  $F_{m+1} = F_m(x) + h(x)$. $h$ é construído com o objetivo de \"cobrir\" os erros de $F_m$.\n",
    "\n",
    "A técnica de Gradient Boosting segue a mesma ideia geral de Boosting, usando a estratégia de descida de gradiente (Gradient Descent) para minimizar uma função de erro $L(F(x), y)$.\n",
    "\n",
    "O Gradient Tree Boosting é um modelo que utiliza a técnica de Gradient Boosting com Árvores de Decisão como estimadores construtores do modelo. Vamos realizar um experimento a fim de analisar o impacto das iterações no método, usando a classe `sklearn.ensemble.GradientBoostingClassifier` e executando 500 iterações do algoritmo."
   ]
  },
  {
   "cell_type": "code",
   "execution_count": 145,
   "metadata": {},
   "outputs": [],
   "source": [
    "from sklearn.ensemble import GradientBoostingClassifier\n",
    "\n",
    "gb_results = []\n",
    "train_accuracies = []\n",
    "test_accuracies = []\n",
    "n_iters=500\n",
    "for train, test in kfold.split(koi, target):\n",
    "    gb = GradientBoostingClassifier(n_estimators=n_iters, learning_rate=0.1, max_depth=2)\n",
    "    gb = gb.fit(koi.iloc[train], target.iloc[train]) \n",
    "    y_pred = gb.predict(koi.iloc[test])\n",
    "    gb_results.append(evaluate_prediction(target.iloc[test], y_pred))\n",
    "    train_accuracies.append([])\n",
    "    test_accuracies.append([])\n",
    "    for i, y_pred in enumerate(gb.staged_predict(koi.iloc[train])):\n",
    "        train_accuracies[-1].append(metrics.accuracy_score(target.iloc[train], y_pred))\n",
    "    for i, y_pred in enumerate(gb.staged_predict(koi.iloc[test])):\n",
    "        test_accuracies[-1].append(metrics.accuracy_score(target.iloc[test], y_pred))    \n",
    "mean_train_accuracies = np.array(train_accuracies).mean(axis=0)\n",
    "std_train_accuracies = np.array(train_accuracies).std(axis=0)\n",
    "mean_test_accuracies = np.array(test_accuracies).mean(axis=0)\n",
    "std_test_accuracies = np.array(test_accuracies).std(axis=0);"
   ]
  },
  {
   "cell_type": "code",
   "execution_count": 146,
   "metadata": {
    "scrolled": false
   },
   "outputs": [
    {
     "data": {
      "image/png": "[encoded data removed]",
      "text/plain": [
       "<Figure size 1080x720 with 1 Axes>"
      ]
     },
     "metadata": {},
     "output_type": "display_data"
    }
   ],
   "source": [
    "plt.figure(figsize=(15,10))\n",
    "plt.errorbar(range(1, n_iters+1), mean_test_accuracies, std_test_accuracies, color='blue', ecolor='lightblue', label='Média da acurácia no conjunto de teste')\n",
    "plt.errorbar(range(1, n_iters+1), mean_train_accuracies, std_train_accuracies, color='orange', ecolor='yellow', label='Média da acurácia no conjunto de treino')\n",
    "plt.title(\"Média de acurácia por iteração do Gradient Tree Boosting em 5-Fold CV\")\n",
    "plt.xlabel(\"Iterações\")\n",
    "plt.ylabel(\"Média das acurácias\")\n",
    "plt.yticks(np.arange(0.5,1.05,0.05))\n",
    "plt.legend(loc='lower right');"
   ]
  },
  {
   "cell_type": "code",
   "execution_count": 147,
   "metadata": {},
   "outputs": [
    {
     "data": {
      "text/html": [
       "<div>\n",
       "<style scoped>\n",
       "    .dataframe tbody tr th:only-of-type {\n",
       "        vertical-align: middle;\n",
       "    }\n",
       "\n",
       "    .dataframe tbody tr th {\n",
       "        vertical-align: top;\n",
       "    }\n",
       "\n",
       "    .dataframe thead th {\n",
       "        text-align: right;\n",
       "    }\n",
       "</style>\n",
       "<table border=\"1\" class=\"dataframe\">\n",
       "  <thead>\n",
       "    <tr style=\"text-align: right;\">\n",
       "      <th></th>\n",
       "      <th>Acurácia</th>\n",
       "      <th>Precisão</th>\n",
       "      <th>Revocação</th>\n",
       "      <th>ROC AUC</th>\n",
       "    </tr>\n",
       "    <tr>\n",
       "      <th>Medida</th>\n",
       "      <th></th>\n",
       "      <th></th>\n",
       "      <th></th>\n",
       "      <th></th>\n",
       "    </tr>\n",
       "  </thead>\n",
       "  <tbody>\n",
       "    <tr>\n",
       "      <th>Média</th>\n",
       "      <td>0.975201</td>\n",
       "      <td>0.962816</td>\n",
       "      <td>0.976001</td>\n",
       "      <td>0.975253</td>\n",
       "    </tr>\n",
       "    <tr>\n",
       "      <th>Desvio Padrão</th>\n",
       "      <td>0.004408</td>\n",
       "      <td>0.005460</td>\n",
       "      <td>0.008526</td>\n",
       "      <td>0.005095</td>\n",
       "    </tr>\n",
       "  </tbody>\n",
       "</table>\n",
       "</div>"
      ],
      "text/plain": [
       "               Acurácia  Precisão  Revocação   ROC AUC\n",
       "Medida                                                \n",
       "Média          0.975201  0.962816   0.976001  0.975253\n",
       "Desvio Padrão  0.004408  0.005460   0.008526  0.005095"
      ]
     },
     "execution_count": 147,
     "metadata": {},
     "output_type": "execute_result"
    }
   ],
   "source": [
    "gb_results = np.array(gb_results)\n",
    "results.loc[\"Gradient Tree Boosting\"] = [gb_results.mean(axis=0), gb_results.std(axis=0)]\n",
    "results.loc[\"Gradient Tree Boosting\"]"
   ]
  },
  {
   "cell_type": "markdown",
   "metadata": {},
   "source": [
    "Podemos ver que, após ~200 iterações, apesar da acurácia no conjunto de treino continuar crescendo (esperado, uma vez que a adição de estimadores é feita a partir da minimização do erro no conjunto de treino), a acurácia no conjunto teste se estabiliza. Ou seja, a generalização do modelo não melhora junto com a quantidade de estimadores. Como esta também não diminuiu, podemos dizer que uma grande quantidade de iterações não deve causar _overfitting_.\n",
    "\n",
    "---"
   ]
  },
  {
   "cell_type": "markdown",
   "metadata": {},
   "source": [
    "# Conclusão\n",
    "\n",
    "Vamos comparar as médias dos resultados obtidos pelos modelos na validação cruzada."
   ]
  },
  {
   "cell_type": "code",
   "execution_count": 148,
   "metadata": {},
   "outputs": [
    {
     "data": {
      "text/html": [
       "<div>\n",
       "<style scoped>\n",
       "    .dataframe tbody tr th:only-of-type {\n",
       "        vertical-align: middle;\n",
       "    }\n",
       "\n",
       "    .dataframe tbody tr th {\n",
       "        vertical-align: top;\n",
       "    }\n",
       "\n",
       "    .dataframe thead th {\n",
       "        text-align: right;\n",
       "    }\n",
       "</style>\n",
       "<table border=\"1\" class=\"dataframe\">\n",
       "  <thead>\n",
       "    <tr style=\"text-align: right;\">\n",
       "      <th></th>\n",
       "      <th></th>\n",
       "      <th>Acurácia</th>\n",
       "      <th>Precisão</th>\n",
       "      <th>Revocação</th>\n",
       "      <th>ROC AUC</th>\n",
       "    </tr>\n",
       "    <tr>\n",
       "      <th>Método</th>\n",
       "      <th>Medida</th>\n",
       "      <th></th>\n",
       "      <th></th>\n",
       "      <th></th>\n",
       "      <th></th>\n",
       "    </tr>\n",
       "  </thead>\n",
       "  <tbody>\n",
       "    <tr>\n",
       "      <th rowspan=\"2\" valign=\"top\">Naive Bayes</th>\n",
       "      <th>Média</th>\n",
       "      <td>0.798540</td>\n",
       "      <td>0.673276</td>\n",
       "      <td>0.974828</td>\n",
       "      <td>0.826656</td>\n",
       "    </tr>\n",
       "    <tr>\n",
       "      <th>Desvio Padrão</th>\n",
       "      <td>0.008714</td>\n",
       "      <td>0.007306</td>\n",
       "      <td>0.009247</td>\n",
       "      <td>0.010774</td>\n",
       "    </tr>\n",
       "    <tr>\n",
       "      <th rowspan=\"2\" valign=\"top\">Decision Tree</th>\n",
       "      <th>Média</th>\n",
       "      <td>0.952327</td>\n",
       "      <td>0.921906</td>\n",
       "      <td>0.963831</td>\n",
       "      <td>0.954133</td>\n",
       "    </tr>\n",
       "    <tr>\n",
       "      <th>Desvio Padrão</th>\n",
       "      <td>0.006861</td>\n",
       "      <td>0.011791</td>\n",
       "      <td>0.007817</td>\n",
       "      <td>0.006614</td>\n",
       "    </tr>\n",
       "    <tr>\n",
       "      <th rowspan=\"2\" valign=\"top\">SVM</th>\n",
       "      <th>Média</th>\n",
       "      <td>0.950982</td>\n",
       "      <td>0.924149</td>\n",
       "      <td>0.957067</td>\n",
       "      <td>0.951926</td>\n",
       "    </tr>\n",
       "    <tr>\n",
       "      <th>Desvio Padrão</th>\n",
       "      <td>0.005752</td>\n",
       "      <td>0.008347</td>\n",
       "      <td>0.010596</td>\n",
       "      <td>0.006304</td>\n",
       "    </tr>\n",
       "    <tr>\n",
       "      <th rowspan=\"2\" valign=\"top\">k-NN</th>\n",
       "      <th>Média</th>\n",
       "      <td>0.842947</td>\n",
       "      <td>0.781805</td>\n",
       "      <td>0.846613</td>\n",
       "      <td>0.843218</td>\n",
       "    </tr>\n",
       "    <tr>\n",
       "      <th>Desvio Padrão</th>\n",
       "      <td>0.006558</td>\n",
       "      <td>0.014160</td>\n",
       "      <td>0.019783</td>\n",
       "      <td>0.008067</td>\n",
       "    </tr>\n",
       "    <tr>\n",
       "      <th rowspan=\"2\" valign=\"top\">Random Forest</th>\n",
       "      <th>Média</th>\n",
       "      <td>0.970204</td>\n",
       "      <td>0.962490</td>\n",
       "      <td>0.963930</td>\n",
       "      <td>0.969216</td>\n",
       "    </tr>\n",
       "    <tr>\n",
       "      <th>Desvio Padrão</th>\n",
       "      <td>0.004788</td>\n",
       "      <td>0.007210</td>\n",
       "      <td>0.006275</td>\n",
       "      <td>0.004898</td>\n",
       "    </tr>\n",
       "    <tr>\n",
       "      <th rowspan=\"2\" valign=\"top\">Gradient Tree Boosting</th>\n",
       "      <th>Média</th>\n",
       "      <td>0.975201</td>\n",
       "      <td>0.962816</td>\n",
       "      <td>0.976001</td>\n",
       "      <td>0.975253</td>\n",
       "    </tr>\n",
       "    <tr>\n",
       "      <th>Desvio Padrão</th>\n",
       "      <td>0.004408</td>\n",
       "      <td>0.005460</td>\n",
       "      <td>0.008526</td>\n",
       "      <td>0.005095</td>\n",
       "    </tr>\n",
       "  </tbody>\n",
       "</table>\n",
       "</div>"
      ],
      "text/plain": [
       "                                      Acurácia  Precisão  Revocação   ROC AUC\n",
       "Método                 Medida                                                \n",
       "Naive Bayes            Média          0.798540  0.673276   0.974828  0.826656\n",
       "                       Desvio Padrão  0.008714  0.007306   0.009247  0.010774\n",
       "Decision Tree          Média          0.952327  0.921906   0.963831  0.954133\n",
       "                       Desvio Padrão  0.006861  0.011791   0.007817  0.006614\n",
       "SVM                    Média          0.950982  0.924149   0.957067  0.951926\n",
       "                       Desvio Padrão  0.005752  0.008347   0.010596  0.006304\n",
       "k-NN                   Média          0.842947  0.781805   0.846613  0.843218\n",
       "                       Desvio Padrão  0.006558  0.014160   0.019783  0.008067\n",
       "Random Forest          Média          0.970204  0.962490   0.963930  0.969216\n",
       "                       Desvio Padrão  0.004788  0.007210   0.006275  0.004898\n",
       "Gradient Tree Boosting Média          0.975201  0.962816   0.976001  0.975253\n",
       "                       Desvio Padrão  0.004408  0.005460   0.008526  0.005095"
      ]
     },
     "execution_count": 148,
     "metadata": {},
     "output_type": "execute_result"
    }
   ],
   "source": [
    "results"
   ]
  },
  {
   "cell_type": "code",
   "execution_count": 149,
   "metadata": {
    "scrolled": false
   },
   "outputs": [
    {
     "data": {
      "image/png": "[encoded data removed]",
      "text/plain": [
       "<Figure size 1080x720 with 1 Axes>"
      ]
     },
     "metadata": {},
     "output_type": "display_data"
    }
   ],
   "source": [
    "ax = results.loc[(slice(None), 'Média'), :].plot.bar(figsize=(15,10))\n",
    "ax.set_ylabel(\"Avaliação\");\n",
    "ax.set_xlabel(\"Método\")\n",
    "ax.set_title(\"Avaliação dos métodos para a tarefa de classificação de exoplanetas\");"
   ]
  },
  {
   "cell_type": "markdown",
   "metadata": {},
   "source": [
    "Conclui-se que o método mais eficiente para a tarefa é o Gradient Tree Boosting, seguido pelo Random Forest."
   ]
  }
 ],
 "metadata": {
  "kernelspec": {
   "display_name": "Python 3",
   "language": "python",
   "name": "python3"
  },
  "language_info": {
   "codemirror_mode": {
    "name": "ipython",
    "version": 3
   },
   "file_extension": ".py",
   "mimetype": "text/x-python",
   "name": "python",
   "nbconvert_exporter": "python",
   "pygments_lexer": "ipython3",
   "version": "3.6.5"
  }
 },
 "nbformat": 4,
 "nbformat_minor": 2
}
